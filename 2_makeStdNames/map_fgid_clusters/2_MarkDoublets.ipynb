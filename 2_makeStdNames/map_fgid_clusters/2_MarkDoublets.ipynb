{
 "cells": [
  {
   "cell_type": "code",
   "execution_count": 1,
   "metadata": {},
   "outputs": [],
   "source": [
    "# srobj$is_doublet"
   ]
  },
  {
   "cell_type": "code",
   "execution_count": 2,
   "metadata": {},
   "outputs": [],
   "source": [
    "import pandas as pd\n",
    "from dotenv import load_dotenv\n",
    "from os import getenv\n",
    "load_dotenv()"
   ]
  },
  {
   "cell_type": "code",
   "execution_count": 3,
   "metadata": {},
   "outputs": [],
   "source": [
    "df = pd.read_csv(getenv(\"FG_MAPPED_CURATED_TSV\"), sep=\"\\t\")"
   ]
  },
  {
   "cell_type": "code",
   "execution_count": 4,
   "metadata": {},
   "outputs": [
    {
     "data": {
      "text/plain": [
       "array(['FG.Mstcl.doublets_epithelial', 'FG.Mstcl.doublets_tcll',\n",
       "       'FG.Glial.doublets_tcll',\n",
       "       'FG.IGG_Plsma_Bcll.Bcll_like.Tclls_doublets',\n",
       "       'FG.Endth.doublets_tcll',\n",
       "       'FG.IGA_IGK_Plsma.Plsma_2.doublet_stromal',\n",
       "       'FG.Tclls.activated.doublets_p017_dominated',\n",
       "       'FG.Endth.doublets_plasma',\n",
       "       'FG.Mloid.dendritic_CLECL10A_CD1C_CD207.doublets_plasma',\n",
       "       'FG.Bclls.Bclls_cycling.tcll_doublets', 'FG.Fibro.doublet_mito',\n",
       "       'FG.Mloid.doublets_mito_dendritic.doublets',\n",
       "       'FG.Tclls.activated.cytotoxic_CD3.LGALS3_S100A10_Mphage_doublets',\n",
       "       'FG.Mloid.macrophage_chemokine.doublets',\n",
       "       'FG.Tclls.activated.cytotoxic_CD3.MS4A1_CD79A_Bclls_doublets',\n",
       "       'FG.IGA_IGL_Plsma.doublets_Tcll',\n",
       "       'FG.Epith.crypt_OLFM4_AGR2.doublets_tcll',\n",
       "       'FG.Tclls.activated.IL7R.spillover_doublets_p044_dominated',\n",
       "       'FG.IGA_IGK_Plsma.Plsma_1.doublet_tcll',\n",
       "       'FG.Tclls.activated.cytotoxic_CD3.Plsma_Mstcl_doublets',\n",
       "       'FG.IGA_IGL_Plsma.doublets_stromal',\n",
       "       'FG.IGA_IGK_Plsma.doublets.doublets_stromal',\n",
       "       'FG.Mloid.doublets_plasma_macrophage',\n",
       "       'FG.IGA_IGK_Plsma.doublets.doublets_mast',\n",
       "       'FG.IGA_IGK_Plsma.doublets.doublets_epithelial',\n",
       "       'FG.Tclls.activated.IL7R.doublets_p043_dominated',\n",
       "       'FG.IGA_IGK_Plsma.doublets.doublets_myeloid',\n",
       "       'FG.Mloid.doublets_lymphoid.doublets_lymphocytes',\n",
       "       'FG.Mloid.doublets_lymphoid.Ribo_p009dominated',\n",
       "       'FG.Mloid.dendritic_CLECL10A_CD1C_CD207.doublets_enterocyte',\n",
       "       'FG.Mstcl.doublets_plasma', 'FG.Glial.doublets_plasma_myeloid',\n",
       "       'FG.Mloid.doublets_stromal', 'FG.Fibro.doublet_epithelial',\n",
       "       'FG.Endth.doublets_epithelial', 'FG.Fibro.doublet_tcll',\n",
       "       'FG.IGG_Plsma_Bcll.Bcll_like.mature_IGHG1.CD2_Tclls_doublet',\n",
       "       'FG.Fibro.doublet_mast', 'FG.Fibro.doublet_bcll'], dtype=object)"
      ]
     },
     "execution_count": 4,
     "metadata": {},
     "output_type": "execute_result"
    }
   ],
   "source": [
    "idx = df.tierNname.str[3:].str.match(\"(.*([Dd]oublet)[^\\.]*$)|(.*Ribo_p009dominated$)\")\n",
    "df.tierNname[idx].unique()"
   ]
  },
  {
   "cell_type": "code",
   "execution_count": 5,
   "metadata": {},
   "outputs": [],
   "source": [
    "df[\"is_doublet\"] = idx"
   ]
  },
  {
   "cell_type": "code",
   "execution_count": 6,
   "metadata": {},
   "outputs": [],
   "source": [
    "df.to_csv(getenv(\"FG_MAPPED_CURATED_TSV\"), sep=\"\\t\", index=False, quoting=0)"
   ]
  },
  {
   "cell_type": "code",
   "execution_count": 28,
   "metadata": {},
   "outputs": [],
   "source": [
    "FGID_doublet_clusters = [\n",
    "    \"Bclls.Bclls_cycling.tcll_doublets\",\n",
    "    \"Endth.doublets_epithelial\",\n",
    "    \"Endth.doublets_plasma\",\n",
    "    \"Endth.doublets_tcll\",\n",
    "    \"Epith.crypt_OLFM4_AGR2.doublets_tcll\",\n",
    "    \"Fibro.doubet_tcll\",\n",
    "    \"Fibro.doublet_bcll\",\n",
    "    \"Fibro.doublet_epithelial\",\n",
    "    \"Fibro.doublet_mast\",\n",
    "    \"Fibro.doublet_mito\",\n",
    "    \"Fibro.doublet_tcll\",\n",
    "    \"Glial.doublets_plasma_myeloid\",\n",
    "    \"Glial.doublets_tcll\",\n",
    "    \"IGA_IGK_Plsma.doublets.epithelial\",\n",
    "    \"IGA_IGK_Plsma.doublets.mast\",\n",
    "    \"IGA_IGK_Plsma.doublets.myeloid\",\n",
    "    \"IGA_IGK_Plsma.doublets.stromal\",\n",
    "    \"IGA_IGK_Plsma.Plsma_1.doublet_tcll\",\n",
    "    \"IGA_IGK_Plsma.Plsma_2.doublet_stromal\",\n",
    "    \"IGA_IGL_Plsma.doublets_stromal\",\n",
    "    \"IGA_IGL_Plsma.doublets_Tcll\",\n",
    "    \"IGG_Plsma_Bcll.Bcll_like.mature_IGHG1.CD2_Tclls_doublet\",\n",
    "    \"IGG_Plsma_Bcll.Bcll_like.Tclls_doublets\",\n",
    "    \"Mloid.dendritic_CLECL10A_CD1C_CD207.doublets_enterocyte\",\n",
    "    \"Mloid.dendritic_CLECL10A_CD1C_CD207.doublets_plasma\",\n",
    "    \"Mloid.doublets_lymphoid.doublets_lymphocytes\",\n",
    "    \"Mloid.doublets_lymphoid.Ribo_p009dominated\",\n",
    "    \"Mloid.doublets_mito_dendritic.doublets\",\n",
    "    \"Mloid.doublets_plasma_macrophage\",\n",
    "    \"Mloid.doublets_stromal\",\n",
    "    \"Mloid.macrophage_chemokine.doublets\",\n",
    "    \"Mstcl.doublets_epithelial\",\n",
    "    \"Mstcl.doublets_plasma\",\n",
    "    \"Mstcl.doublets_tcll\",\n",
    "    \"Tclls.activated.cytotoxic_CD3.LGALS3_S100A10_Mphage_doublets\",\n",
    "    \"Tclls.activated.cytotoxic_CD3.MS4A1_CD79A_Bclls_doublets\",\n",
    "    \"Tclls.activated.cytotoxic_CD3.Plsma_Mstcl_doublets\",\n",
    "    \"Tclls.activated.doublets_p017_dominated\",\n",
    "    \"Tclls.activated.IL7R.doublets_p043_dominated\",\n",
    "    \"Tclls.activated.IL7R.spillover_doublets_p044_dominated\"\n",
    "]"
   ]
  },
  {
   "cell_type": "code",
   "execution_count": 29,
   "metadata": {},
   "outputs": [],
   "source": [
    "doubletclusts_comp = df.tierNname[idx].str[3:].unique()"
   ]
  },
  {
   "cell_type": "code",
   "execution_count": 30,
   "metadata": {},
   "outputs": [
    {
     "data": {
      "text/plain": [
       "40"
      ]
     },
     "execution_count": 30,
     "metadata": {},
     "output_type": "execute_result"
    }
   ],
   "source": [
    "len(FGID_doublet_clusters)"
   ]
  },
  {
   "cell_type": "code",
   "execution_count": 31,
   "metadata": {},
   "outputs": [
    {
     "data": {
      "text/plain": [
       "39"
      ]
     },
     "execution_count": 31,
     "metadata": {},
     "output_type": "execute_result"
    }
   ],
   "source": [
    "len(doubletclusts_comp)"
   ]
  },
  {
   "cell_type": "code",
   "execution_count": 32,
   "metadata": {},
   "outputs": [
    {
     "name": "stdout",
     "output_type": "stream",
     "text": [
      "Fibro.doubet_tcll\n",
      "IGA_IGK_Plsma.doublets.epithelial\n",
      "IGA_IGK_Plsma.doublets.mast\n",
      "IGA_IGK_Plsma.doublets.myeloid\n",
      "IGA_IGK_Plsma.doublets.stromal\n"
     ]
    },
    {
     "data": {
      "text/plain": [
       "[None, None, None, None, None]"
      ]
     },
     "execution_count": 32,
     "metadata": {},
     "output_type": "execute_result"
    }
   ],
   "source": [
    "[print(x) for x in FGID_doublet_clusters if x not in doubletclusts_comp]"
   ]
  },
  {
   "cell_type": "code",
   "execution_count": 33,
   "metadata": {},
   "outputs": [
    {
     "name": "stdout",
     "output_type": "stream",
     "text": [
      "IGA_IGK_Plsma.doublets.doublets_stromal\n",
      "IGA_IGK_Plsma.doublets.doublets_mast\n",
      "IGA_IGK_Plsma.doublets.doublets_epithelial\n",
      "IGA_IGK_Plsma.doublets.doublets_myeloid\n"
     ]
    },
    {
     "data": {
      "text/plain": [
       "[None, None, None, None]"
      ]
     },
     "execution_count": 33,
     "metadata": {},
     "output_type": "execute_result"
    }
   ],
   "source": [
    "[print(x) for x in doubletclusts_comp if x not in FGID_doublet_clusters]"
   ]
  },
  {
   "cell_type": "code",
   "execution_count": null,
   "metadata": {},
   "outputs": [],
   "source": []
  }
 ],
 "metadata": {
  "kernelspec": {
   "display_name": "Python 3",
   "language": "python",
   "name": "python3"
  },
  "language_info": {
   "codemirror_mode": {
    "name": "ipython",
    "version": 3
   },
   "file_extension": ".py",
   "mimetype": "text/x-python",
   "name": "python",
   "nbconvert_exporter": "python",
   "pygments_lexer": "ipython3",
   "version": "3.9.4"
  }
 },
 "nbformat": 4,
 "nbformat_minor": 4
}
