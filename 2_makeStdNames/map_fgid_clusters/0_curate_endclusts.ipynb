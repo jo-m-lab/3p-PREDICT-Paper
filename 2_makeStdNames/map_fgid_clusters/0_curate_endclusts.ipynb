{
 "cells": [
  {
   "cell_type": "code",
   "execution_count": 1,
   "metadata": {},
   "outputs": [],
   "source": [
    "import pandas as pd\n",
    "from dotenv import load_dotenv\n",
    "from os import getenv\n",
    "load_dotenv()"
   ]
  },
  {
   "cell_type": "code",
   "execution_count": 2,
   "metadata": {},
   "outputs": [],
   "source": [
    "# use python 3\n",
    "import glob\n",
    "import yaml\n",
    "from functools import reduce\n",
    "from toolz import pipe"
   ]
  },
  {
   "cell_type": "code",
   "execution_count": 23,
   "metadata": {},
   "outputs": [],
   "source": [
    "def load_endclusts_as_df(filelist):\n",
    "    li = [pd.read_csv(file, header=None, sep=\"\\t\") for file in filelist]\n",
    "    df = pd.concat(li, axis=0, \n",
    "                   keys=[f.split(\"/\")[-1].split(\".\")[0] for f in all_files], \n",
    "                   names=[\"cluster\", \"orig_idx\"]).reset_index()\n",
    "    df.columns = ['cluster', 'orig_idx', \"CellID\"]\n",
    "    return df"
   ]
  },
  {
   "cell_type": "code",
   "execution_count": 38,
   "metadata": {},
   "outputs": [],
   "source": [
    "# %%\n",
    "df = load_endclusts_as_df(glob.glob(\"FGIDendclusts/*\"))\n",
    "df.cluster = df.cluster\\\n",
    "               .str.split(\"tier\")\\\n",
    "               .str.join(\"_T\")\\\n",
    "               .str.split(\"_clust\")\\\n",
    "               .str.join(\"C\")\\\n",
    "               .str[1:]"
   ]
  },
  {
   "cell_type": "code",
   "execution_count": 39,
   "metadata": {},
   "outputs": [
    {
     "data": {
      "text/plain": [
       "(115569, 3)"
      ]
     },
     "execution_count": 39,
     "metadata": {},
     "output_type": "execute_result"
    }
   ],
   "source": [
    "df.shape"
   ]
  },
  {
   "cell_type": "code",
   "execution_count": 40,
   "metadata": {},
   "outputs": [
    {
     "data": {
      "text/html": [
       "<div>\n",
       "<style scoped>\n",
       "    .dataframe tbody tr th:only-of-type {\n",
       "        vertical-align: middle;\n",
       "    }\n",
       "\n",
       "    .dataframe tbody tr th {\n",
       "        vertical-align: top;\n",
       "    }\n",
       "\n",
       "    .dataframe thead th {\n",
       "        text-align: right;\n",
       "    }\n",
       "</style>\n",
       "<table border=\"1\" class=\"dataframe\">\n",
       "  <thead>\n",
       "    <tr style=\"text-align: right;\">\n",
       "      <th></th>\n",
       "      <th>cluster</th>\n",
       "      <th>orig_idx</th>\n",
       "      <th>CellID</th>\n",
       "    </tr>\n",
       "  </thead>\n",
       "  <tbody>\n",
       "    <tr>\n",
       "      <td>0</td>\n",
       "      <td>T0C0_T1C4_T2C0_T3C5_T4C3</td>\n",
       "      <td>0</td>\n",
       "      <td>p049_T0D_ILE_LPS_3p_AAGACCTTCCCATTTA-1</td>\n",
       "    </tr>\n",
       "    <tr>\n",
       "      <td>1</td>\n",
       "      <td>T0C0_T1C4_T2C0_T3C5_T4C3</td>\n",
       "      <td>1</td>\n",
       "      <td>p049_T0D_ILE_LPS_3p_ACGGGCTTCAAACCAC-1</td>\n",
       "    </tr>\n",
       "    <tr>\n",
       "      <td>2</td>\n",
       "      <td>T0C0_T1C4_T2C0_T3C5_T4C3</td>\n",
       "      <td>2</td>\n",
       "      <td>p049_T0D_ILE_LPS_3p_ACTGAGTAGTTCGATC-1</td>\n",
       "    </tr>\n",
       "    <tr>\n",
       "      <td>3</td>\n",
       "      <td>T0C0_T1C4_T2C0_T3C5_T4C3</td>\n",
       "      <td>3</td>\n",
       "      <td>p049_T0D_ILE_LPS_3p_AGCTTGACAGCCTGTG-1</td>\n",
       "    </tr>\n",
       "    <tr>\n",
       "      <td>4</td>\n",
       "      <td>T0C0_T1C4_T2C0_T3C5_T4C3</td>\n",
       "      <td>4</td>\n",
       "      <td>p049_T0D_ILE_LPS_3p_AGTTGGTTCACTGGGC-1</td>\n",
       "    </tr>\n",
       "  </tbody>\n",
       "</table>\n",
       "</div>"
      ],
      "text/plain": [
       "                    cluster  orig_idx                                  CellID\n",
       "0  T0C0_T1C4_T2C0_T3C5_T4C3         0  p049_T0D_ILE_LPS_3p_AAGACCTTCCCATTTA-1\n",
       "1  T0C0_T1C4_T2C0_T3C5_T4C3         1  p049_T0D_ILE_LPS_3p_ACGGGCTTCAAACCAC-1\n",
       "2  T0C0_T1C4_T2C0_T3C5_T4C3         2  p049_T0D_ILE_LPS_3p_ACTGAGTAGTTCGATC-1\n",
       "3  T0C0_T1C4_T2C0_T3C5_T4C3         3  p049_T0D_ILE_LPS_3p_AGCTTGACAGCCTGTG-1\n",
       "4  T0C0_T1C4_T2C0_T3C5_T4C3         4  p049_T0D_ILE_LPS_3p_AGTTGGTTCACTGGGC-1"
      ]
     },
     "execution_count": 40,
     "metadata": {},
     "output_type": "execute_result"
    }
   ],
   "source": [
    "df.head()"
   ]
  },
  {
   "cell_type": "code",
   "execution_count": 47,
   "metadata": {},
   "outputs": [],
   "source": [
    "t1c1t2c0 = glob.glob(\"bclls_T1C1_T2C0_endclusts/*\")"
   ]
  },
  {
   "cell_type": "code",
   "execution_count": 52,
   "metadata": {},
   "outputs": [],
   "source": [
    "t1c1t2c0 = pd.DataFrame(t1c1t2c0, columns=[\"src\"])"
   ]
  },
  {
   "cell_type": "code",
   "execution_count": 78,
   "metadata": {},
   "outputs": [],
   "source": [
    "t1c1t2c0[\"dst\"] = t1c1t2c0.src\\\n",
    "    .str.split(\"/\")\\\n",
    "    .str[1]\\\n",
    "    .str.replace(\"tier\\d\", lambda s: f\"tier{str(int(s[0][-1]) + 2)}\")\\\n",
    "    .str.replace(\"tier2_clust0\", 'curated_endclusts/tier0_clust0tier1_clust1tier2_clust0')"
   ]
  },
  {
   "cell_type": "code",
   "execution_count": 95,
   "metadata": {},
   "outputs": [],
   "source": [
    "for i, row in t1c1t2c0.iterrows():\n",
    "    !cp {row.src} {row.dst}"
   ]
  },
  {
   "cell_type": "code",
   "execution_count": 96,
   "metadata": {},
   "outputs": [],
   "source": [
    "t1c1t2c1 = glob.glob(\"bclls_T1C1_T2C1_endclusts/*\")"
   ]
  },
  {
   "cell_type": "code",
   "execution_count": 97,
   "metadata": {},
   "outputs": [],
   "source": [
    "t1c1t2c1 = pd.DataFrame(t1c1t2c1, columns=[\"src\"])"
   ]
  },
  {
   "cell_type": "code",
   "execution_count": 98,
   "metadata": {},
   "outputs": [],
   "source": [
    "t1c1t2c1[\"dst\"] = t1c1t2c1.src\\\n",
    "    .str.split(\"/\")\\\n",
    "    .str[1]\\\n",
    "    .str.replace(\"tier\\d\", lambda s: f\"tier{str(int(s[0][-1]) + 2)}\")\\\n",
    "    .str.replace(\"tier2_clust0\", 'curated_endclusts/tier0_clust0tier1_clust1tier2_clust1')"
   ]
  },
  {
   "cell_type": "code",
   "execution_count": 99,
   "metadata": {},
   "outputs": [],
   "source": [
    "for i, row in t1c1t2c1.iterrows():\n",
    "    !cp {row.src} {row.dst}"
   ]
  },
  {
   "cell_type": "code",
   "execution_count": null,
   "metadata": {},
   "outputs": [],
   "source": []
  }
 ],
 "metadata": {
  "kernelspec": {
   "display_name": "Python 3",
   "language": "python",
   "name": "python3"
  },
  "language_info": {
   "codemirror_mode": {
    "name": "ipython",
    "version": 3
   },
   "file_extension": ".py",
   "mimetype": "text/x-python",
   "name": "python",
   "nbconvert_exporter": "python",
   "pygments_lexer": "ipython3",
   "version": "3.9.4"
  }
 },
 "nbformat": 4,
 "nbformat_minor": 4
}
