{
 "cells": [
  {
   "cell_type": "code",
   "execution_count": 1,
   "metadata": {},
   "outputs": [],
   "source": [
    "# use python 3\n",
    "import glob\n",
    "import yaml\n",
    "import pandas as pd \n",
    "from functools import reduce\n",
    "from dotenv import load_dotenv\n",
    "from os import getenv\n",
    "load_dotenv()\n",
    "\n",
    "# %%\n",
    "# folder where endcluster directory is\n",
    "all_files = glob.glob(\"curated_endclusts/*\")\n",
    "\n",
    "# %%\n",
    "# read in each cluster file as dataframe\n",
    "li = []\n",
    "for file in all_files:\n",
    "     li.append(pd.read_csv(file, header=None, sep=\"\\t\"))\n",
    "\n",
    "\n",
    "# %%\n",
    "# merge into single frame with saved cluster identity\n",
    "df = pd.concat(li, \n",
    "                axis=0,\n",
    "                # ignore_index=True,\n",
    "                keys=[f.split(\"/\")[-1].split(\".\")[0] for f in all_files],\n",
    "                names=[\"cluster\", \"orig_idx\"]).reset_index()\n",
    "df.columns = ['cluster', 'orig_idx', \"CellID\"]"
   ]
  },
  {
   "cell_type": "code",
   "execution_count": 2,
   "metadata": {},
   "outputs": [
    {
     "data": {
      "text/html": [
       "<div>\n",
       "<style scoped>\n",
       "    .dataframe tbody tr th:only-of-type {\n",
       "        vertical-align: middle;\n",
       "    }\n",
       "\n",
       "    .dataframe tbody tr th {\n",
       "        vertical-align: top;\n",
       "    }\n",
       "\n",
       "    .dataframe thead th {\n",
       "        text-align: right;\n",
       "    }\n",
       "</style>\n",
       "<table border=\"1\" class=\"dataframe\">\n",
       "  <thead>\n",
       "    <tr style=\"text-align: right;\">\n",
       "      <th></th>\n",
       "      <th>cluster</th>\n",
       "      <th>orig_idx</th>\n",
       "      <th>CellID</th>\n",
       "    </tr>\n",
       "  </thead>\n",
       "  <tbody>\n",
       "    <tr>\n",
       "      <td>0</td>\n",
       "      <td>tier0_clust0tier1_clust4tier2_clust0tier3_clus...</td>\n",
       "      <td>0</td>\n",
       "      <td>p049_T0D_ILE_LPS_3p_AAGACCTTCCCATTTA-1</td>\n",
       "    </tr>\n",
       "    <tr>\n",
       "      <td>1</td>\n",
       "      <td>tier0_clust0tier1_clust4tier2_clust0tier3_clus...</td>\n",
       "      <td>1</td>\n",
       "      <td>p049_T0D_ILE_LPS_3p_ACGGGCTTCAAACCAC-1</td>\n",
       "    </tr>\n",
       "    <tr>\n",
       "      <td>2</td>\n",
       "      <td>tier0_clust0tier1_clust4tier2_clust0tier3_clus...</td>\n",
       "      <td>2</td>\n",
       "      <td>p049_T0D_ILE_LPS_3p_ACTGAGTAGTTCGATC-1</td>\n",
       "    </tr>\n",
       "    <tr>\n",
       "      <td>3</td>\n",
       "      <td>tier0_clust0tier1_clust4tier2_clust0tier3_clus...</td>\n",
       "      <td>3</td>\n",
       "      <td>p049_T0D_ILE_LPS_3p_AGCTTGACAGCCTGTG-1</td>\n",
       "    </tr>\n",
       "    <tr>\n",
       "      <td>4</td>\n",
       "      <td>tier0_clust0tier1_clust4tier2_clust0tier3_clus...</td>\n",
       "      <td>4</td>\n",
       "      <td>p049_T0D_ILE_LPS_3p_AGTTGGTTCACTGGGC-1</td>\n",
       "    </tr>\n",
       "  </tbody>\n",
       "</table>\n",
       "</div>"
      ],
      "text/plain": [
       "                                             cluster  orig_idx  \\\n",
       "0  tier0_clust0tier1_clust4tier2_clust0tier3_clus...         0   \n",
       "1  tier0_clust0tier1_clust4tier2_clust0tier3_clus...         1   \n",
       "2  tier0_clust0tier1_clust4tier2_clust0tier3_clus...         2   \n",
       "3  tier0_clust0tier1_clust4tier2_clust0tier3_clus...         3   \n",
       "4  tier0_clust0tier1_clust4tier2_clust0tier3_clus...         4   \n",
       "\n",
       "                                   CellID  \n",
       "0  p049_T0D_ILE_LPS_3p_AAGACCTTCCCATTTA-1  \n",
       "1  p049_T0D_ILE_LPS_3p_ACGGGCTTCAAACCAC-1  \n",
       "2  p049_T0D_ILE_LPS_3p_ACTGAGTAGTTCGATC-1  \n",
       "3  p049_T0D_ILE_LPS_3p_AGCTTGACAGCCTGTG-1  \n",
       "4  p049_T0D_ILE_LPS_3p_AGTTGGTTCACTGGGC-1  "
      ]
     },
     "execution_count": 2,
     "metadata": {},
     "output_type": "execute_result"
    }
   ],
   "source": [
    "df.head()"
   ]
  },
  {
   "cell_type": "code",
   "execution_count": 3,
   "metadata": {},
   "outputs": [
    {
     "data": {
      "text/plain": [
       "(115569, 3)"
      ]
     },
     "execution_count": 3,
     "metadata": {},
     "output_type": "execute_result"
    }
   ],
   "source": [
    "df.shape"
   ]
  },
  {
   "cell_type": "code",
   "execution_count": 4,
   "metadata": {},
   "outputs": [],
   "source": [
    "# %%\n",
    "# probably don't need this line (had to do with how I ran tiered clustering)\n",
    "# cluster column should look like this \"T0C0_T1C0\" ...\n",
    "\n",
    "# df.cluster = df.cluster.str[5:]\n",
    "df.cluster = df.cluster\\\n",
    "    .str.split(\"tier\")\\\n",
    "    .str.join(\"_T\")\\\n",
    "    .str.split(\"_clust\")\\\n",
    "    .str.join(\"C\")\\\n",
    "    .str[1:]"
   ]
  },
  {
   "cell_type": "code",
   "execution_count": 5,
   "metadata": {},
   "outputs": [
    {
     "data": {
      "text/html": [
       "<div>\n",
       "<style scoped>\n",
       "    .dataframe tbody tr th:only-of-type {\n",
       "        vertical-align: middle;\n",
       "    }\n",
       "\n",
       "    .dataframe tbody tr th {\n",
       "        vertical-align: top;\n",
       "    }\n",
       "\n",
       "    .dataframe thead th {\n",
       "        text-align: right;\n",
       "    }\n",
       "</style>\n",
       "<table border=\"1\" class=\"dataframe\">\n",
       "  <thead>\n",
       "    <tr style=\"text-align: right;\">\n",
       "      <th></th>\n",
       "      <th>cluster</th>\n",
       "      <th>orig_idx</th>\n",
       "      <th>CellID</th>\n",
       "    </tr>\n",
       "  </thead>\n",
       "  <tbody>\n",
       "    <tr>\n",
       "      <td>0</td>\n",
       "      <td>T0C0_T1C4_T2C0_T3C5_T4C3</td>\n",
       "      <td>0</td>\n",
       "      <td>p049_T0D_ILE_LPS_3p_AAGACCTTCCCATTTA-1</td>\n",
       "    </tr>\n",
       "    <tr>\n",
       "      <td>1</td>\n",
       "      <td>T0C0_T1C4_T2C0_T3C5_T4C3</td>\n",
       "      <td>1</td>\n",
       "      <td>p049_T0D_ILE_LPS_3p_ACGGGCTTCAAACCAC-1</td>\n",
       "    </tr>\n",
       "    <tr>\n",
       "      <td>2</td>\n",
       "      <td>T0C0_T1C4_T2C0_T3C5_T4C3</td>\n",
       "      <td>2</td>\n",
       "      <td>p049_T0D_ILE_LPS_3p_ACTGAGTAGTTCGATC-1</td>\n",
       "    </tr>\n",
       "    <tr>\n",
       "      <td>3</td>\n",
       "      <td>T0C0_T1C4_T2C0_T3C5_T4C3</td>\n",
       "      <td>3</td>\n",
       "      <td>p049_T0D_ILE_LPS_3p_AGCTTGACAGCCTGTG-1</td>\n",
       "    </tr>\n",
       "    <tr>\n",
       "      <td>4</td>\n",
       "      <td>T0C0_T1C4_T2C0_T3C5_T4C3</td>\n",
       "      <td>4</td>\n",
       "      <td>p049_T0D_ILE_LPS_3p_AGTTGGTTCACTGGGC-1</td>\n",
       "    </tr>\n",
       "  </tbody>\n",
       "</table>\n",
       "</div>"
      ],
      "text/plain": [
       "                    cluster  orig_idx                                  CellID\n",
       "0  T0C0_T1C4_T2C0_T3C5_T4C3         0  p049_T0D_ILE_LPS_3p_AAGACCTTCCCATTTA-1\n",
       "1  T0C0_T1C4_T2C0_T3C5_T4C3         1  p049_T0D_ILE_LPS_3p_ACGGGCTTCAAACCAC-1\n",
       "2  T0C0_T1C4_T2C0_T3C5_T4C3         2  p049_T0D_ILE_LPS_3p_ACTGAGTAGTTCGATC-1\n",
       "3  T0C0_T1C4_T2C0_T3C5_T4C3         3  p049_T0D_ILE_LPS_3p_AGCTTGACAGCCTGTG-1\n",
       "4  T0C0_T1C4_T2C0_T3C5_T4C3         4  p049_T0D_ILE_LPS_3p_AGTTGGTTCACTGGGC-1"
      ]
     },
     "execution_count": 5,
     "metadata": {},
     "output_type": "execute_result"
    }
   ],
   "source": [
    "df.head()"
   ]
  },
  {
   "cell_type": "code",
   "execution_count": 6,
   "metadata": {},
   "outputs": [],
   "source": [
    "# %%\n",
    "# get cluster paths down to iterated level\n",
    "# exchanges \"_\" for \".\"\n",
    "df[\"tier0ident\"] = df.cluster.str.split(\"_\").str[:1].str.join(\".\") # not interesting (all the same)\n",
    "df[\"tier1ident\"] = df.cluster.str.split(\"_\").str[:2].str.join(\".\") # Major cell types\n",
    "df[\"tier2ident\"] = df.cluster.str.split(\"_\").str[:3].str.join(\".\") \n",
    "df[\"tier3ident\"] = df.cluster.str.split(\"_\").str[:4].str.join(\".\")\n",
    "df[\"tier4ident\"] = df.cluster.str.split(\"_\").str[:5].str.join(\".\")\n",
    "df[\"tierNident\"] = df.cluster.str.replace(\"_\", \".\")  # endclusters # used for cell subsets"
   ]
  },
  {
   "cell_type": "code",
   "execution_count": 7,
   "metadata": {},
   "outputs": [
    {
     "data": {
      "text/html": [
       "<div>\n",
       "<style scoped>\n",
       "    .dataframe tbody tr th:only-of-type {\n",
       "        vertical-align: middle;\n",
       "    }\n",
       "\n",
       "    .dataframe tbody tr th {\n",
       "        vertical-align: top;\n",
       "    }\n",
       "\n",
       "    .dataframe thead th {\n",
       "        text-align: right;\n",
       "    }\n",
       "</style>\n",
       "<table border=\"1\" class=\"dataframe\">\n",
       "  <thead>\n",
       "    <tr style=\"text-align: right;\">\n",
       "      <th></th>\n",
       "      <th>cluster</th>\n",
       "      <th>orig_idx</th>\n",
       "      <th>CellID</th>\n",
       "      <th>tier0ident</th>\n",
       "      <th>tier1ident</th>\n",
       "      <th>tier2ident</th>\n",
       "      <th>tier3ident</th>\n",
       "      <th>tier4ident</th>\n",
       "      <th>tierNident</th>\n",
       "    </tr>\n",
       "  </thead>\n",
       "  <tbody>\n",
       "    <tr>\n",
       "      <td>0</td>\n",
       "      <td>T0C0_T1C4_T2C0_T3C5_T4C3</td>\n",
       "      <td>0</td>\n",
       "      <td>p049_T0D_ILE_LPS_3p_AAGACCTTCCCATTTA-1</td>\n",
       "      <td>T0C0</td>\n",
       "      <td>T0C0.T1C4</td>\n",
       "      <td>T0C0.T1C4.T2C0</td>\n",
       "      <td>T0C0.T1C4.T2C0.T3C5</td>\n",
       "      <td>T0C0.T1C4.T2C0.T3C5.T4C3</td>\n",
       "      <td>T0C0.T1C4.T2C0.T3C5.T4C3</td>\n",
       "    </tr>\n",
       "    <tr>\n",
       "      <td>1</td>\n",
       "      <td>T0C0_T1C4_T2C0_T3C5_T4C3</td>\n",
       "      <td>1</td>\n",
       "      <td>p049_T0D_ILE_LPS_3p_ACGGGCTTCAAACCAC-1</td>\n",
       "      <td>T0C0</td>\n",
       "      <td>T0C0.T1C4</td>\n",
       "      <td>T0C0.T1C4.T2C0</td>\n",
       "      <td>T0C0.T1C4.T2C0.T3C5</td>\n",
       "      <td>T0C0.T1C4.T2C0.T3C5.T4C3</td>\n",
       "      <td>T0C0.T1C4.T2C0.T3C5.T4C3</td>\n",
       "    </tr>\n",
       "    <tr>\n",
       "      <td>2</td>\n",
       "      <td>T0C0_T1C4_T2C0_T3C5_T4C3</td>\n",
       "      <td>2</td>\n",
       "      <td>p049_T0D_ILE_LPS_3p_ACTGAGTAGTTCGATC-1</td>\n",
       "      <td>T0C0</td>\n",
       "      <td>T0C0.T1C4</td>\n",
       "      <td>T0C0.T1C4.T2C0</td>\n",
       "      <td>T0C0.T1C4.T2C0.T3C5</td>\n",
       "      <td>T0C0.T1C4.T2C0.T3C5.T4C3</td>\n",
       "      <td>T0C0.T1C4.T2C0.T3C5.T4C3</td>\n",
       "    </tr>\n",
       "    <tr>\n",
       "      <td>3</td>\n",
       "      <td>T0C0_T1C4_T2C0_T3C5_T4C3</td>\n",
       "      <td>3</td>\n",
       "      <td>p049_T0D_ILE_LPS_3p_AGCTTGACAGCCTGTG-1</td>\n",
       "      <td>T0C0</td>\n",
       "      <td>T0C0.T1C4</td>\n",
       "      <td>T0C0.T1C4.T2C0</td>\n",
       "      <td>T0C0.T1C4.T2C0.T3C5</td>\n",
       "      <td>T0C0.T1C4.T2C0.T3C5.T4C3</td>\n",
       "      <td>T0C0.T1C4.T2C0.T3C5.T4C3</td>\n",
       "    </tr>\n",
       "    <tr>\n",
       "      <td>4</td>\n",
       "      <td>T0C0_T1C4_T2C0_T3C5_T4C3</td>\n",
       "      <td>4</td>\n",
       "      <td>p049_T0D_ILE_LPS_3p_AGTTGGTTCACTGGGC-1</td>\n",
       "      <td>T0C0</td>\n",
       "      <td>T0C0.T1C4</td>\n",
       "      <td>T0C0.T1C4.T2C0</td>\n",
       "      <td>T0C0.T1C4.T2C0.T3C5</td>\n",
       "      <td>T0C0.T1C4.T2C0.T3C5.T4C3</td>\n",
       "      <td>T0C0.T1C4.T2C0.T3C5.T4C3</td>\n",
       "    </tr>\n",
       "    <tr>\n",
       "      <td>...</td>\n",
       "      <td>...</td>\n",
       "      <td>...</td>\n",
       "      <td>...</td>\n",
       "      <td>...</td>\n",
       "      <td>...</td>\n",
       "      <td>...</td>\n",
       "      <td>...</td>\n",
       "      <td>...</td>\n",
       "      <td>...</td>\n",
       "    </tr>\n",
       "    <tr>\n",
       "      <td>115564</td>\n",
       "      <td>T0C0_T1C3_T2C1_T3C0_T4C3</td>\n",
       "      <td>57</td>\n",
       "      <td>p035_T0D_ILE_LPS_3p_ACGGAGATCTTTCCTC-1</td>\n",
       "      <td>T0C0</td>\n",
       "      <td>T0C0.T1C3</td>\n",
       "      <td>T0C0.T1C3.T2C1</td>\n",
       "      <td>T0C0.T1C3.T2C1.T3C0</td>\n",
       "      <td>T0C0.T1C3.T2C1.T3C0.T4C3</td>\n",
       "      <td>T0C0.T1C3.T2C1.T3C0.T4C3</td>\n",
       "    </tr>\n",
       "    <tr>\n",
       "      <td>115565</td>\n",
       "      <td>T0C0_T1C3_T2C1_T3C0_T4C3</td>\n",
       "      <td>58</td>\n",
       "      <td>p043_T0D_ILE_LPS_3p_ACGGAGAAGCAATATG-1</td>\n",
       "      <td>T0C0</td>\n",
       "      <td>T0C0.T1C3</td>\n",
       "      <td>T0C0.T1C3.T2C1</td>\n",
       "      <td>T0C0.T1C3.T2C1.T3C0</td>\n",
       "      <td>T0C0.T1C3.T2C1.T3C0.T4C3</td>\n",
       "      <td>T0C0.T1C3.T2C1.T3C0.T4C3</td>\n",
       "    </tr>\n",
       "    <tr>\n",
       "      <td>115566</td>\n",
       "      <td>T0C0_T1C3_T2C1_T3C0_T4C3</td>\n",
       "      <td>59</td>\n",
       "      <td>p043_T0D_ILE_LPS_3p_CAACTAGAGCTAAGAT-1</td>\n",
       "      <td>T0C0</td>\n",
       "      <td>T0C0.T1C3</td>\n",
       "      <td>T0C0.T1C3.T2C1</td>\n",
       "      <td>T0C0.T1C3.T2C1.T3C0</td>\n",
       "      <td>T0C0.T1C3.T2C1.T3C0.T4C3</td>\n",
       "      <td>T0C0.T1C3.T2C1.T3C0.T4C3</td>\n",
       "    </tr>\n",
       "    <tr>\n",
       "      <td>115567</td>\n",
       "      <td>T0C0_T1C3_T2C1_T3C0_T4C3</td>\n",
       "      <td>60</td>\n",
       "      <td>p050_T0D_ILE_LPS_3p_CGTGAGCGTCGTCTTC-1</td>\n",
       "      <td>T0C0</td>\n",
       "      <td>T0C0.T1C3</td>\n",
       "      <td>T0C0.T1C3.T2C1</td>\n",
       "      <td>T0C0.T1C3.T2C1.T3C0</td>\n",
       "      <td>T0C0.T1C3.T2C1.T3C0.T4C3</td>\n",
       "      <td>T0C0.T1C3.T2C1.T3C0.T4C3</td>\n",
       "    </tr>\n",
       "    <tr>\n",
       "      <td>115568</td>\n",
       "      <td>T0C0_T1C3_T2C1_T3C0_T4C3</td>\n",
       "      <td>61</td>\n",
       "      <td>p050_T0D_ILE_LPS_3p_GGACAGAAGTGAATTG-1</td>\n",
       "      <td>T0C0</td>\n",
       "      <td>T0C0.T1C3</td>\n",
       "      <td>T0C0.T1C3.T2C1</td>\n",
       "      <td>T0C0.T1C3.T2C1.T3C0</td>\n",
       "      <td>T0C0.T1C3.T2C1.T3C0.T4C3</td>\n",
       "      <td>T0C0.T1C3.T2C1.T3C0.T4C3</td>\n",
       "    </tr>\n",
       "  </tbody>\n",
       "</table>\n",
       "<p>115569 rows × 9 columns</p>\n",
       "</div>"
      ],
      "text/plain": [
       "                         cluster  orig_idx  \\\n",
       "0       T0C0_T1C4_T2C0_T3C5_T4C3         0   \n",
       "1       T0C0_T1C4_T2C0_T3C5_T4C3         1   \n",
       "2       T0C0_T1C4_T2C0_T3C5_T4C3         2   \n",
       "3       T0C0_T1C4_T2C0_T3C5_T4C3         3   \n",
       "4       T0C0_T1C4_T2C0_T3C5_T4C3         4   \n",
       "...                          ...       ...   \n",
       "115564  T0C0_T1C3_T2C1_T3C0_T4C3        57   \n",
       "115565  T0C0_T1C3_T2C1_T3C0_T4C3        58   \n",
       "115566  T0C0_T1C3_T2C1_T3C0_T4C3        59   \n",
       "115567  T0C0_T1C3_T2C1_T3C0_T4C3        60   \n",
       "115568  T0C0_T1C3_T2C1_T3C0_T4C3        61   \n",
       "\n",
       "                                        CellID tier0ident tier1ident  \\\n",
       "0       p049_T0D_ILE_LPS_3p_AAGACCTTCCCATTTA-1       T0C0  T0C0.T1C4   \n",
       "1       p049_T0D_ILE_LPS_3p_ACGGGCTTCAAACCAC-1       T0C0  T0C0.T1C4   \n",
       "2       p049_T0D_ILE_LPS_3p_ACTGAGTAGTTCGATC-1       T0C0  T0C0.T1C4   \n",
       "3       p049_T0D_ILE_LPS_3p_AGCTTGACAGCCTGTG-1       T0C0  T0C0.T1C4   \n",
       "4       p049_T0D_ILE_LPS_3p_AGTTGGTTCACTGGGC-1       T0C0  T0C0.T1C4   \n",
       "...                                        ...        ...        ...   \n",
       "115564  p035_T0D_ILE_LPS_3p_ACGGAGATCTTTCCTC-1       T0C0  T0C0.T1C3   \n",
       "115565  p043_T0D_ILE_LPS_3p_ACGGAGAAGCAATATG-1       T0C0  T0C0.T1C3   \n",
       "115566  p043_T0D_ILE_LPS_3p_CAACTAGAGCTAAGAT-1       T0C0  T0C0.T1C3   \n",
       "115567  p050_T0D_ILE_LPS_3p_CGTGAGCGTCGTCTTC-1       T0C0  T0C0.T1C3   \n",
       "115568  p050_T0D_ILE_LPS_3p_GGACAGAAGTGAATTG-1       T0C0  T0C0.T1C3   \n",
       "\n",
       "            tier2ident           tier3ident                tier4ident  \\\n",
       "0       T0C0.T1C4.T2C0  T0C0.T1C4.T2C0.T3C5  T0C0.T1C4.T2C0.T3C5.T4C3   \n",
       "1       T0C0.T1C4.T2C0  T0C0.T1C4.T2C0.T3C5  T0C0.T1C4.T2C0.T3C5.T4C3   \n",
       "2       T0C0.T1C4.T2C0  T0C0.T1C4.T2C0.T3C5  T0C0.T1C4.T2C0.T3C5.T4C3   \n",
       "3       T0C0.T1C4.T2C0  T0C0.T1C4.T2C0.T3C5  T0C0.T1C4.T2C0.T3C5.T4C3   \n",
       "4       T0C0.T1C4.T2C0  T0C0.T1C4.T2C0.T3C5  T0C0.T1C4.T2C0.T3C5.T4C3   \n",
       "...                ...                  ...                       ...   \n",
       "115564  T0C0.T1C3.T2C1  T0C0.T1C3.T2C1.T3C0  T0C0.T1C3.T2C1.T3C0.T4C3   \n",
       "115565  T0C0.T1C3.T2C1  T0C0.T1C3.T2C1.T3C0  T0C0.T1C3.T2C1.T3C0.T4C3   \n",
       "115566  T0C0.T1C3.T2C1  T0C0.T1C3.T2C1.T3C0  T0C0.T1C3.T2C1.T3C0.T4C3   \n",
       "115567  T0C0.T1C3.T2C1  T0C0.T1C3.T2C1.T3C0  T0C0.T1C3.T2C1.T3C0.T4C3   \n",
       "115568  T0C0.T1C3.T2C1  T0C0.T1C3.T2C1.T3C0  T0C0.T1C3.T2C1.T3C0.T4C3   \n",
       "\n",
       "                      tierNident  \n",
       "0       T0C0.T1C4.T2C0.T3C5.T4C3  \n",
       "1       T0C0.T1C4.T2C0.T3C5.T4C3  \n",
       "2       T0C0.T1C4.T2C0.T3C5.T4C3  \n",
       "3       T0C0.T1C4.T2C0.T3C5.T4C3  \n",
       "4       T0C0.T1C4.T2C0.T3C5.T4C3  \n",
       "...                          ...  \n",
       "115564  T0C0.T1C3.T2C1.T3C0.T4C3  \n",
       "115565  T0C0.T1C3.T2C1.T3C0.T4C3  \n",
       "115566  T0C0.T1C3.T2C1.T3C0.T4C3  \n",
       "115567  T0C0.T1C3.T2C1.T3C0.T4C3  \n",
       "115568  T0C0.T1C3.T2C1.T3C0.T4C3  \n",
       "\n",
       "[115569 rows x 9 columns]"
      ]
     },
     "execution_count": 7,
     "metadata": {},
     "output_type": "execute_result"
    }
   ],
   "source": [
    "# %%\n",
    "# lookit! \n",
    "df"
   ]
  },
  {
   "cell_type": "code",
   "execution_count": 13,
   "metadata": {},
   "outputs": [],
   "source": [
    "# %%\n",
    "# read in yaml file (had to change structer a little) (removes clusters: tag)\n",
    "with open(r\"20200416_allcells_FGID13.yml\", \"r+\") as fl:\n",
    "    tree = {\"T0C0\": yaml.load(fl, Loader=yaml.FullLoader)}"
   ]
  },
  {
   "cell_type": "code",
   "execution_count": 14,
   "metadata": {},
   "outputs": [
    {
     "data": {
      "text/plain": [
       "'T0C0.T1C4.T2C0.T3C5.T4C3'"
      ]
     },
     "execution_count": 14,
     "metadata": {},
     "output_type": "execute_result"
    }
   ],
   "source": [
    "df.tierNident.unique()[0]"
   ]
  },
  {
   "cell_type": "code",
   "execution_count": 15,
   "metadata": {},
   "outputs": [],
   "source": [
    "def get_next_node(d, k):\n",
    "    if d.get(k, False): # if key is annotated\n",
    "        if not d.get(\"isend\", False): # if \n",
    "            d_next = d.get(k)\n",
    "            d_next[\"path\"] = \".\".join([d.get(\"path\"), d_next.get(\"name\")])\n",
    "            return d_next\n",
    "    return d"
   ]
  },
  {
   "cell_type": "code",
   "execution_count": 16,
   "metadata": {},
   "outputs": [
    {
     "data": {
      "text/plain": [
       "'FG.IGA_IGK_Plsma.Plsma_1'"
      ]
     },
     "execution_count": 16,
     "metadata": {},
     "output_type": "execute_result"
    }
   ],
   "source": [
    "node = reduce(get_next_node, df.tier2ident.unique()[0].split(\".\"), tree['T0C0'])\n",
    "node[\"path\"]"
   ]
  },
  {
   "cell_type": "code",
   "execution_count": 17,
   "metadata": {},
   "outputs": [],
   "source": [
    "# %%\n",
    "df[\"tier0name\"] = df.tier0ident.apply(lambda p: reduce(get_next_node, p.split(\".\"), tree[\"T0C0\"])[\"path\"])\n",
    "df[\"tier1name\"] = df.tier1ident.apply(lambda p: reduce(get_next_node, p.split(\".\"), tree[\"T0C0\"])[\"path\"])\n",
    "df[\"tier2name\"] = df.tier2ident.apply(lambda p: reduce(get_next_node, p.split(\".\"), tree[\"T0C0\"])[\"path\"])\n",
    "df[\"tier3name\"] = df.tier3ident.apply(lambda p: reduce(get_next_node, p.split(\".\"), tree[\"T0C0\"])[\"path\"])\n",
    "df[\"tier4name\"] = df.tier4ident.apply(lambda p: reduce(get_next_node, p.split(\".\"), tree[\"T0C0\"])[\"path\"])\n",
    "df[\"tierNname\"] = df.tierNident.apply(lambda p: reduce(get_next_node, p.split(\".\"), tree[\"T0C0\"])[\"path\"])"
   ]
  },
  {
   "cell_type": "code",
   "execution_count": 18,
   "metadata": {},
   "outputs": [
    {
     "data": {
      "text/plain": [
       "cluster       0\n",
       "orig_idx      0\n",
       "CellID        0\n",
       "tier0ident    0\n",
       "tier1ident    0\n",
       "tier2ident    0\n",
       "tier3ident    0\n",
       "tier4ident    0\n",
       "tierNident    0\n",
       "tier0name     0\n",
       "tier1name     0\n",
       "tier2name     0\n",
       "tier3name     0\n",
       "tier4name     0\n",
       "tierNname     0\n",
       "dtype: int64"
      ]
     },
     "execution_count": 18,
     "metadata": {},
     "output_type": "execute_result"
    }
   ],
   "source": [
    "# %%\n",
    "# QC checks to make sure there are no NA values\n",
    "df.isna().sum()"
   ]
  },
  {
   "cell_type": "code",
   "execution_count": 15,
   "metadata": {},
   "outputs": [
    {
     "data": {
      "text/plain": [
       "cluster            0.0\n",
       "orig_idx           0.0\n",
       "CellID             0.0\n",
       "tier0ident         0.0\n",
       "tier1ident         0.0\n",
       "tier2ident         0.0\n",
       "tier3ident         0.0\n",
       "tier4ident         0.0\n",
       "tierNident         0.0\n",
       "tier0name     115569.0\n",
       "tier1name          0.0\n",
       "tier2name          0.0\n",
       "tier3name          0.0\n",
       "tier4name          0.0\n",
       "tierNname          0.0\n",
       "dtype: float64"
      ]
     },
     "execution_count": 15,
     "metadata": {},
     "output_type": "execute_result"
    }
   ],
   "source": [
    "# checks that the default value \"Mm\" is not an exact match anywhere except tier0name\n",
    "df.apply(func=lambda x: x.str.match(\"^FG$\"), axis=1).sum()"
   ]
  },
  {
   "cell_type": "code",
   "execution_count": 32,
   "metadata": {},
   "outputs": [
    {
     "data": {
      "text/plain": [
       "0"
      ]
     },
     "execution_count": 32,
     "metadata": {},
     "output_type": "execute_result"
    }
   ],
   "source": [
    "df.CellID.duplicated().sum()"
   ]
  },
  {
   "cell_type": "code",
   "execution_count": 19,
   "metadata": {},
   "outputs": [
    {
     "data": {
      "text/plain": [
       "array(['T0C0.T1C4', 'T0C0.T1C2', 'T0C0.T1C7', 'T0C0.T1C0', 'T0C0.T1C8',\n",
       "       'T0C0.T1C5', 'T0C0.T1C6', 'T0C0.T1C1', 'T0C0.T1C9', 'T0C0.T1C11',\n",
       "       'T0C0.T1C10', 'T0C0.T1C3'], dtype=object)"
      ]
     },
     "execution_count": 19,
     "metadata": {},
     "output_type": "execute_result"
    }
   ],
   "source": [
    "df.tier1ident.unique()"
   ]
  },
  {
   "cell_type": "code",
   "execution_count": 20,
   "metadata": {},
   "outputs": [
    {
     "data": {
      "text/plain": [
       "FG.Bclls.Bclls_noncycling.CD27_memory                                                    10114\n",
       "FG.Bclls.Bclls_noncycling.FCER2_IGHD_follicular_transitioning                             8140\n",
       "FG.Bclls.Bclls_cycling.proliferating_DarkZone                                             3544\n",
       "FG.Bclls.Bclls_cycling.tcll_doublets                                                      1614\n",
       "FG.Bclls.Bclls_cycling.GerminalCenter_HLA-DQB1_CD40_CD79B.DarkZone_CXCR4_AICDA_Kappa      1108\n",
       "FG.Bclls.Bclls_cycling.GerminalCenter_HLA-DQB1_CD40_CD79B.GerminalCenter_Ribosomal         935\n",
       "FG.Bclls.Bclls_cycling.GerminalCenter_HLA-DQB1_CD40_CD79B.LightZone_HLA_CD83               902\n",
       "FG.Bclls.Bclls_cycling.GerminalCenter_HLA-DQB1_CD40_CD79B.p034_dominated                   620\n",
       "FG.Bclls.Bclls_cycling.GerminalCenter_HLA-DQB1_CD40_CD79B.DarkZone_CXCR4_AICDA_Lambda      618\n",
       "FG.Bclls.Bclls_noncycling.p050_dominated_SPILLOVER                                         612\n",
       "FG.Bclls.Bclls_noncycling.p035_dominated                                                   442\n",
       "FG.Bclls.Bclls_noncycling.IGLC3_IGLC6_IGLC7                                                192\n",
       "Name: tierNname, dtype: int64"
      ]
     },
     "execution_count": 20,
     "metadata": {},
     "output_type": "execute_result"
    }
   ],
   "source": [
    "df.loc[df.tier1name == \"FG.Bclls\", :].tierNname.value_counts()"
   ]
  },
  {
   "cell_type": "code",
   "execution_count": 21,
   "metadata": {},
   "outputs": [
    {
     "data": {
      "text/html": [
       "<div>\n",
       "<style scoped>\n",
       "    .dataframe tbody tr th:only-of-type {\n",
       "        vertical-align: middle;\n",
       "    }\n",
       "\n",
       "    .dataframe tbody tr th {\n",
       "        vertical-align: top;\n",
       "    }\n",
       "\n",
       "    .dataframe thead th {\n",
       "        text-align: right;\n",
       "    }\n",
       "</style>\n",
       "<table border=\"1\" class=\"dataframe\">\n",
       "  <thead>\n",
       "    <tr style=\"text-align: right;\">\n",
       "      <th></th>\n",
       "      <th>cluster</th>\n",
       "      <th>orig_idx</th>\n",
       "      <th>CellID</th>\n",
       "      <th>tier0ident</th>\n",
       "      <th>tier1ident</th>\n",
       "      <th>tier2ident</th>\n",
       "      <th>tier3ident</th>\n",
       "      <th>tier4ident</th>\n",
       "      <th>tierNident</th>\n",
       "      <th>tier0name</th>\n",
       "      <th>tier1name</th>\n",
       "      <th>tier2name</th>\n",
       "      <th>tier3name</th>\n",
       "      <th>tier4name</th>\n",
       "      <th>tierNname</th>\n",
       "    </tr>\n",
       "  </thead>\n",
       "  <tbody>\n",
       "    <tr>\n",
       "      <td>0</td>\n",
       "      <td>T0C0_T1C4_T2C0_T3C5_T4C3</td>\n",
       "      <td>0</td>\n",
       "      <td>p049_T0D_ILE_LPS_3p_AAGACCTTCCCATTTA-1</td>\n",
       "      <td>T0C0</td>\n",
       "      <td>T0C0.T1C4</td>\n",
       "      <td>T0C0.T1C4.T2C0</td>\n",
       "      <td>T0C0.T1C4.T2C0.T3C5</td>\n",
       "      <td>T0C0.T1C4.T2C0.T3C5.T4C3</td>\n",
       "      <td>T0C0.T1C4.T2C0.T3C5.T4C3</td>\n",
       "      <td>FG</td>\n",
       "      <td>FG.IGA_IGK_Plsma</td>\n",
       "      <td>FG.IGA_IGK_Plsma.Plsma_1</td>\n",
       "      <td>FG.IGA_IGK_Plsma.Plsma_1.IGKV_unique</td>\n",
       "      <td>FG.IGA_IGK_Plsma.Plsma_1.IGKV_unique</td>\n",
       "      <td>FG.IGA_IGK_Plsma.Plsma_1.IGKV_unique</td>\n",
       "    </tr>\n",
       "    <tr>\n",
       "      <td>1</td>\n",
       "      <td>T0C0_T1C4_T2C0_T3C5_T4C3</td>\n",
       "      <td>1</td>\n",
       "      <td>p049_T0D_ILE_LPS_3p_ACGGGCTTCAAACCAC-1</td>\n",
       "      <td>T0C0</td>\n",
       "      <td>T0C0.T1C4</td>\n",
       "      <td>T0C0.T1C4.T2C0</td>\n",
       "      <td>T0C0.T1C4.T2C0.T3C5</td>\n",
       "      <td>T0C0.T1C4.T2C0.T3C5.T4C3</td>\n",
       "      <td>T0C0.T1C4.T2C0.T3C5.T4C3</td>\n",
       "      <td>FG</td>\n",
       "      <td>FG.IGA_IGK_Plsma</td>\n",
       "      <td>FG.IGA_IGK_Plsma.Plsma_1</td>\n",
       "      <td>FG.IGA_IGK_Plsma.Plsma_1.IGKV_unique</td>\n",
       "      <td>FG.IGA_IGK_Plsma.Plsma_1.IGKV_unique</td>\n",
       "      <td>FG.IGA_IGK_Plsma.Plsma_1.IGKV_unique</td>\n",
       "    </tr>\n",
       "    <tr>\n",
       "      <td>2</td>\n",
       "      <td>T0C0_T1C4_T2C0_T3C5_T4C3</td>\n",
       "      <td>2</td>\n",
       "      <td>p049_T0D_ILE_LPS_3p_ACTGAGTAGTTCGATC-1</td>\n",
       "      <td>T0C0</td>\n",
       "      <td>T0C0.T1C4</td>\n",
       "      <td>T0C0.T1C4.T2C0</td>\n",
       "      <td>T0C0.T1C4.T2C0.T3C5</td>\n",
       "      <td>T0C0.T1C4.T2C0.T3C5.T4C3</td>\n",
       "      <td>T0C0.T1C4.T2C0.T3C5.T4C3</td>\n",
       "      <td>FG</td>\n",
       "      <td>FG.IGA_IGK_Plsma</td>\n",
       "      <td>FG.IGA_IGK_Plsma.Plsma_1</td>\n",
       "      <td>FG.IGA_IGK_Plsma.Plsma_1.IGKV_unique</td>\n",
       "      <td>FG.IGA_IGK_Plsma.Plsma_1.IGKV_unique</td>\n",
       "      <td>FG.IGA_IGK_Plsma.Plsma_1.IGKV_unique</td>\n",
       "    </tr>\n",
       "    <tr>\n",
       "      <td>3</td>\n",
       "      <td>T0C0_T1C4_T2C0_T3C5_T4C3</td>\n",
       "      <td>3</td>\n",
       "      <td>p049_T0D_ILE_LPS_3p_AGCTTGACAGCCTGTG-1</td>\n",
       "      <td>T0C0</td>\n",
       "      <td>T0C0.T1C4</td>\n",
       "      <td>T0C0.T1C4.T2C0</td>\n",
       "      <td>T0C0.T1C4.T2C0.T3C5</td>\n",
       "      <td>T0C0.T1C4.T2C0.T3C5.T4C3</td>\n",
       "      <td>T0C0.T1C4.T2C0.T3C5.T4C3</td>\n",
       "      <td>FG</td>\n",
       "      <td>FG.IGA_IGK_Plsma</td>\n",
       "      <td>FG.IGA_IGK_Plsma.Plsma_1</td>\n",
       "      <td>FG.IGA_IGK_Plsma.Plsma_1.IGKV_unique</td>\n",
       "      <td>FG.IGA_IGK_Plsma.Plsma_1.IGKV_unique</td>\n",
       "      <td>FG.IGA_IGK_Plsma.Plsma_1.IGKV_unique</td>\n",
       "    </tr>\n",
       "    <tr>\n",
       "      <td>4</td>\n",
       "      <td>T0C0_T1C4_T2C0_T3C5_T4C3</td>\n",
       "      <td>4</td>\n",
       "      <td>p049_T0D_ILE_LPS_3p_AGTTGGTTCACTGGGC-1</td>\n",
       "      <td>T0C0</td>\n",
       "      <td>T0C0.T1C4</td>\n",
       "      <td>T0C0.T1C4.T2C0</td>\n",
       "      <td>T0C0.T1C4.T2C0.T3C5</td>\n",
       "      <td>T0C0.T1C4.T2C0.T3C5.T4C3</td>\n",
       "      <td>T0C0.T1C4.T2C0.T3C5.T4C3</td>\n",
       "      <td>FG</td>\n",
       "      <td>FG.IGA_IGK_Plsma</td>\n",
       "      <td>FG.IGA_IGK_Plsma.Plsma_1</td>\n",
       "      <td>FG.IGA_IGK_Plsma.Plsma_1.IGKV_unique</td>\n",
       "      <td>FG.IGA_IGK_Plsma.Plsma_1.IGKV_unique</td>\n",
       "      <td>FG.IGA_IGK_Plsma.Plsma_1.IGKV_unique</td>\n",
       "    </tr>\n",
       "  </tbody>\n",
       "</table>\n",
       "</div>"
      ],
      "text/plain": [
       "                    cluster  orig_idx                                  CellID  \\\n",
       "0  T0C0_T1C4_T2C0_T3C5_T4C3         0  p049_T0D_ILE_LPS_3p_AAGACCTTCCCATTTA-1   \n",
       "1  T0C0_T1C4_T2C0_T3C5_T4C3         1  p049_T0D_ILE_LPS_3p_ACGGGCTTCAAACCAC-1   \n",
       "2  T0C0_T1C4_T2C0_T3C5_T4C3         2  p049_T0D_ILE_LPS_3p_ACTGAGTAGTTCGATC-1   \n",
       "3  T0C0_T1C4_T2C0_T3C5_T4C3         3  p049_T0D_ILE_LPS_3p_AGCTTGACAGCCTGTG-1   \n",
       "4  T0C0_T1C4_T2C0_T3C5_T4C3         4  p049_T0D_ILE_LPS_3p_AGTTGGTTCACTGGGC-1   \n",
       "\n",
       "  tier0ident tier1ident      tier2ident           tier3ident  \\\n",
       "0       T0C0  T0C0.T1C4  T0C0.T1C4.T2C0  T0C0.T1C4.T2C0.T3C5   \n",
       "1       T0C0  T0C0.T1C4  T0C0.T1C4.T2C0  T0C0.T1C4.T2C0.T3C5   \n",
       "2       T0C0  T0C0.T1C4  T0C0.T1C4.T2C0  T0C0.T1C4.T2C0.T3C5   \n",
       "3       T0C0  T0C0.T1C4  T0C0.T1C4.T2C0  T0C0.T1C4.T2C0.T3C5   \n",
       "4       T0C0  T0C0.T1C4  T0C0.T1C4.T2C0  T0C0.T1C4.T2C0.T3C5   \n",
       "\n",
       "                 tier4ident                tierNident tier0name  \\\n",
       "0  T0C0.T1C4.T2C0.T3C5.T4C3  T0C0.T1C4.T2C0.T3C5.T4C3        FG   \n",
       "1  T0C0.T1C4.T2C0.T3C5.T4C3  T0C0.T1C4.T2C0.T3C5.T4C3        FG   \n",
       "2  T0C0.T1C4.T2C0.T3C5.T4C3  T0C0.T1C4.T2C0.T3C5.T4C3        FG   \n",
       "3  T0C0.T1C4.T2C0.T3C5.T4C3  T0C0.T1C4.T2C0.T3C5.T4C3        FG   \n",
       "4  T0C0.T1C4.T2C0.T3C5.T4C3  T0C0.T1C4.T2C0.T3C5.T4C3        FG   \n",
       "\n",
       "          tier1name                 tier2name  \\\n",
       "0  FG.IGA_IGK_Plsma  FG.IGA_IGK_Plsma.Plsma_1   \n",
       "1  FG.IGA_IGK_Plsma  FG.IGA_IGK_Plsma.Plsma_1   \n",
       "2  FG.IGA_IGK_Plsma  FG.IGA_IGK_Plsma.Plsma_1   \n",
       "3  FG.IGA_IGK_Plsma  FG.IGA_IGK_Plsma.Plsma_1   \n",
       "4  FG.IGA_IGK_Plsma  FG.IGA_IGK_Plsma.Plsma_1   \n",
       "\n",
       "                              tier3name                             tier4name  \\\n",
       "0  FG.IGA_IGK_Plsma.Plsma_1.IGKV_unique  FG.IGA_IGK_Plsma.Plsma_1.IGKV_unique   \n",
       "1  FG.IGA_IGK_Plsma.Plsma_1.IGKV_unique  FG.IGA_IGK_Plsma.Plsma_1.IGKV_unique   \n",
       "2  FG.IGA_IGK_Plsma.Plsma_1.IGKV_unique  FG.IGA_IGK_Plsma.Plsma_1.IGKV_unique   \n",
       "3  FG.IGA_IGK_Plsma.Plsma_1.IGKV_unique  FG.IGA_IGK_Plsma.Plsma_1.IGKV_unique   \n",
       "4  FG.IGA_IGK_Plsma.Plsma_1.IGKV_unique  FG.IGA_IGK_Plsma.Plsma_1.IGKV_unique   \n",
       "\n",
       "                              tierNname  \n",
       "0  FG.IGA_IGK_Plsma.Plsma_1.IGKV_unique  \n",
       "1  FG.IGA_IGK_Plsma.Plsma_1.IGKV_unique  \n",
       "2  FG.IGA_IGK_Plsma.Plsma_1.IGKV_unique  \n",
       "3  FG.IGA_IGK_Plsma.Plsma_1.IGKV_unique  \n",
       "4  FG.IGA_IGK_Plsma.Plsma_1.IGKV_unique  "
      ]
     },
     "execution_count": 21,
     "metadata": {},
     "output_type": "execute_result"
    }
   ],
   "source": [
    "df.head()"
   ]
  },
  {
   "cell_type": "code",
   "execution_count": 22,
   "metadata": {},
   "outputs": [],
   "source": [
    "# %%\n",
    "# save to wherever \n",
    "df.to_csv(getenv(\"FG_MAPPED_TSV\"), sep=\"\\t\", index=False, quoting=0)"
   ]
  },
  {
   "cell_type": "code",
   "execution_count": null,
   "metadata": {},
   "outputs": [],
   "source": []
  }
 ],
 "metadata": {
  "kernelspec": {
   "display_name": "Python 3",
   "language": "python",
   "name": "python3"
  },
  "language_info": {
   "codemirror_mode": {
    "name": "ipython",
    "version": 3
   },
   "file_extension": ".py",
   "mimetype": "text/x-python",
   "name": "python",
   "nbconvert_exporter": "python",
   "pygments_lexer": "ipython3",
   "version": "3.9.4"
  }
 },
 "nbformat": 4,
 "nbformat_minor": 4
}
