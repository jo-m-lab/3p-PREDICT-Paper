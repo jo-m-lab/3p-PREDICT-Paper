{
 "cells": [
  {
   "cell_type": "code",
   "execution_count": 1,
   "metadata": {},
   "outputs": [],
   "source": [
    "# srobj$is_doublet"
   ]
  },
  {
   "cell_type": "code",
   "execution_count": 2,
   "metadata": {},
   "outputs": [],
   "source": [
    "import pandas as pd\n",
    "from dotenv import load_dotenv\n",
    "from os import getenv\n",
    "load_dotenv()"
   ]
  },
  {
   "cell_type": "code",
   "execution_count": 3,
   "metadata": {},
   "outputs": [],
   "source": [
    "df = pd.read_csv(getenv(\"CD_MAPPED_CURATED_TSV\"), sep=\"\\t\")"
   ]
  },
  {
   "cell_type": "code",
   "execution_count": 4,
   "metadata": {},
   "outputs": [
    {
     "data": {
      "text/plain": [
       "array(['CD.Bclls.GerminalCenter.doublets_Tclls',\n",
       "       'CD.Bclls.doublets_Tclls.IL7R_IGHA1_Doublet',\n",
       "       'CD.Mstcl.GATA2_HEXIM1.doublets_epithelial',\n",
       "       'CD.Tclls.cytotoxic_GNLY_NKG7_FCER1G_HOPX.doublets_epithelial',\n",
       "       'CD.Epith.doublets_bcll.doublets_myeloid',\n",
       "       'CD.Endth.doublets_myeloid',\n",
       "       'CD.Fibroblast.F3_EDNRB_FRZB.doublets_epithelial',\n",
       "       'CD.Tclls.KLRB1_IL7R_CCL5_CD3D_CD69.doublets_plasma',\n",
       "       'CD.Epith.doublets_Tcll',\n",
       "       'CD.Fibroblast.glial_S100B_SPP1_PLP1.doublets_Tclls',\n",
       "       'CD.Mloid.macrophage_chemokine.doublets_plasma',\n",
       "       'CD.Tclls.IL32_BATF_TIGIT_CTLA4_CD27.doublets_epithelial',\n",
       "       'CD.IGA_IGL_Plsma.doublets_Tclls',\n",
       "       'CD.Fibroblast.doublets_Tclls.MARCH1_SERPINA9_doublets_bcll',\n",
       "       'CD.Tclls.mitochondrial.doublet_bcll',\n",
       "       'CD.IGM_Plsma.doublets_Tcell_macrophage_Bcell',\n",
       "       'CD.Fibroblast.doublets_Tclls.doublets_mast',\n",
       "       'CD.IGA_IGK_Plsma.doublets_epithelial',\n",
       "       'CD.Bclls.doublets_Tclls.doublets_epithelial',\n",
       "       'CD.Tclls.cytotoxic_GNLY_NKG7_FCER1G_HOPX.doublet_bcll',\n",
       "       'CD.Endth.doublets_Tclls',\n",
       "       'CD.Bclls.doublets_Tclls.doublets_Tclls',\n",
       "       'CD.IGA_IGK_Plsma.doublets_Tclls',\n",
       "       'CD.Epith.doublets_bcll.doublets_bcll',\n",
       "       'CD.Mloid.doublets_lymphoid.doublet_bcll',\n",
       "       'CD.Fibroblast.ADAMEC1_IDO1.doublets_epithelial',\n",
       "       'CD.IGA_IGL_Plsma.doublets_epithelial',\n",
       "       'CD.Mloid.ribosomal.doublet_mito_IgH_epithelial',\n",
       "       'CD.IGA_IGL_Plsma.doublets_macrophage_Bcells',\n",
       "       'CD.Fibroblast.doublets_Tclls.doublets_bcll',\n",
       "       'CD.Endth.doublets_bcll',\n",
       "       'CD.Mloid.macrophage_chemokine.mitochondrial.doublets_plasma',\n",
       "       'CD.Mstcl.doublets_epithelial',\n",
       "       'CD.Mloid.ribosomal.doublets_epithelial',\n",
       "       'CD.Mloid.doublets_lymphoid.doublets_Tcll',\n",
       "       'CD.Endth.spillover_ig.doublets_epithelial',\n",
       "       'CD.Fibroblast.ADAMEC1_IDO1.doublets_plasma',\n",
       "       'CD.Tclls.FOS_JUN_activated_NFKB.FOS_JUN_EGR1_CCL5.doublets_epithelial',\n",
       "       'CD.Tclls.IL32_BATF_TIGIT_CTLA4_CD27.mitochondrial.doublets_plasma',\n",
       "       'CD.Epith.ribosomal_REG1A.doublets_plasma',\n",
       "       'CD.Tclls.doublet_bcll', 'CD.Bclls.doublets_epithelial',\n",
       "       'CD.Mloid.macrophage_CXCL9_CXCL10_IDO1_STAT1.doublet_bcll',\n",
       "       'CD.Mstcl.doublets_Bclls_myeloid',\n",
       "       'CD.Fibroblast.doublets_myeloid',\n",
       "       'CD.Fibroblast.doublets_epithelial',\n",
       "       'CD.Tclls.mitochondrial.TRAC_CD3D_CXCR4.doublets_plasma',\n",
       "       'CD.Tclls.doublets_plasma_epi_patient14',\n",
       "       'CD.Bclls.IGLC3.doublets_epithelial',\n",
       "       'CD.Tclls.mitochondrial.doublets_epithelial',\n",
       "       'CD.IGA_IGL_Plsma.doublets_fibroblast',\n",
       "       'CD.Mloid.doublets_lymphoid', 'CD.Epith.doublets_bcll.doublets_DC',\n",
       "       'CD.Mloid.macrophage_chemokine.APOE_APOC1_CD163.doublets_plasma',\n",
       "       'CD.Epith.MGST1_CCL25_CD9_EPCAM.ZFP36_OAT.doublets_plasma_IFITM1',\n",
       "       'CD.Fibroblast.doublets_Tclls.doublets_Tcll',\n",
       "       'CD.Tclls.Type17_ILC_LST1_TYROBP_AREG_KIT.doublets_plasma',\n",
       "       'CD.Epith.goblet_SPINK4_TFF3_ITLN1.doublets_Tcll'], dtype=object)"
      ]
     },
     "execution_count": 4,
     "metadata": {},
     "output_type": "execute_result"
    }
   ],
   "source": [
    "idx = df.tierNname.str[3:].str.match(\".*([Dd]oublet)[^\\.]*$\")\n",
    "df.tierNname[idx].unique()"
   ]
  },
  {
   "cell_type": "code",
   "execution_count": 5,
   "metadata": {},
   "outputs": [],
   "source": [
    "df[\"is_doublet\"] = idx"
   ]
  },
  {
   "cell_type": "code",
   "execution_count": 6,
   "metadata": {},
   "outputs": [],
   "source": [
    "df.to_csv(getenv(\"CD_MAPPED_CURATED_TSV\"), sep=\"\\t\", index=False, quoting=0)"
   ]
  },
  {
   "cell_type": "code",
   "execution_count": null,
   "metadata": {},
   "outputs": [],
   "source": []
  }
 ],
 "metadata": {
  "kernelspec": {
   "display_name": "Python 3",
   "language": "python",
   "name": "python3"
  },
  "language_info": {
   "codemirror_mode": {
    "name": "ipython",
    "version": 3
   },
   "file_extension": ".py",
   "mimetype": "text/x-python",
   "name": "python",
   "nbconvert_exporter": "python",
   "pygments_lexer": "ipython3",
   "version": "3.9.4"
  }
 },
 "nbformat": 4,
 "nbformat_minor": 4
}
