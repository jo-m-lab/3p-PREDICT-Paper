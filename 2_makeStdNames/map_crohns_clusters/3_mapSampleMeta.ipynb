{
 "cells": [
  {
   "cell_type": "code",
   "execution_count": 2,
   "metadata": {},
   "outputs": [],
   "source": [
    "import pandas as pd\n",
    "from dotenv import load_dotenv\n",
    "from os import getenv\n",
    "load_dotenv()"
   ]
  },
  {
   "cell_type": "code",
   "execution_count": 6,
   "metadata": {},
   "outputs": [],
   "source": [
    "samples = pd.read_csv(getenv(\"PREDICT_SMP_META_TSV\"), sep=\"\\t\")"
   ]
  },
  {
   "cell_type": "code",
   "execution_count": 6,
   "metadata": {},
   "outputs": [
    {
     "data": {
      "text/plain": [
       "Index(['entity:smp_id', 'age', 'ethnicity', 'race', 'sex', 'antiTNF_response',\n",
       "       'disease', 'figdir', 'filtered_h5ad', 'filtered_pdf', 'filtered_png',\n",
       "       'inflammation', 'max_count', 'max_genes', 'min_cells', 'min_genes',\n",
       "       'patient', 'prime', 'raw_h5', 'sample_site', 'time_point', 'tissue'],\n",
       "      dtype='object')"
      ]
     },
     "execution_count": 6,
     "metadata": {},
     "output_type": "execute_result"
    }
   ],
   "source": [
    "samples.keys()"
   ]
  },
  {
   "cell_type": "code",
   "execution_count": 7,
   "metadata": {},
   "outputs": [],
   "source": [
    "cdmeta = pd.read_csv(getenv(\"CD_MAPPED_CURATED_TSV\"), sep=\"\\t\")"
   ]
  },
  {
   "cell_type": "code",
   "execution_count": 8,
   "metadata": {},
   "outputs": [],
   "source": [
    "cdmeta[\"SampleID\"] = cdmeta.CellID.str.replace(\"_[ACGT]+-1\", \"\")"
   ]
  },
  {
   "cell_type": "code",
   "execution_count": 9,
   "metadata": {},
   "outputs": [],
   "source": [
    "samples.index = samples[\"entity:smp_id\"]"
   ]
  },
  {
   "cell_type": "code",
   "execution_count": 10,
   "metadata": {},
   "outputs": [],
   "source": [
    "mrgdf = samples.loc[cdmeta[\"SampleID\"], [\"age\", \"ethnicity\",\"race\",\"sex\",\n",
    "                                         \"antiTNF_response\", \"inflammation\",\n",
    "                                         \"disease\", \"patient\", \"time_point\",\n",
    "                                         \"tissue\", \"prime\"]]"
   ]
  },
  {
   "cell_type": "code",
   "execution_count": 11,
   "metadata": {},
   "outputs": [
    {
     "data": {
      "text/html": [
       "<div>\n",
       "<style scoped>\n",
       "    .dataframe tbody tr th:only-of-type {\n",
       "        vertical-align: middle;\n",
       "    }\n",
       "\n",
       "    .dataframe tbody tr th {\n",
       "        vertical-align: top;\n",
       "    }\n",
       "\n",
       "    .dataframe thead th {\n",
       "        text-align: right;\n",
       "    }\n",
       "</style>\n",
       "<table border=\"1\" class=\"dataframe\">\n",
       "  <thead>\n",
       "    <tr style=\"text-align: right;\">\n",
       "      <th></th>\n",
       "      <th>age</th>\n",
       "      <th>ethnicity</th>\n",
       "      <th>race</th>\n",
       "      <th>sex</th>\n",
       "      <th>antiTNF_response</th>\n",
       "      <th>inflammation</th>\n",
       "      <th>disease</th>\n",
       "      <th>patient</th>\n",
       "      <th>time_point</th>\n",
       "      <th>tissue</th>\n",
       "      <th>prime</th>\n",
       "    </tr>\n",
       "    <tr>\n",
       "      <th>entity:smp_id</th>\n",
       "      <th></th>\n",
       "      <th></th>\n",
       "      <th></th>\n",
       "      <th></th>\n",
       "      <th></th>\n",
       "      <th></th>\n",
       "      <th></th>\n",
       "      <th></th>\n",
       "      <th></th>\n",
       "      <th></th>\n",
       "      <th></th>\n",
       "    </tr>\n",
       "  </thead>\n",
       "  <tbody>\n",
       "    <tr>\n",
       "      <td>p014_T0D_ILE_LPS_3p</td>\n",
       "      <td>11</td>\n",
       "      <td>nh</td>\n",
       "      <td>c</td>\n",
       "      <td>F</td>\n",
       "      <td>RESP</td>\n",
       "      <td>Y</td>\n",
       "      <td>CD</td>\n",
       "      <td>p014</td>\n",
       "      <td>T0D</td>\n",
       "      <td>ILE</td>\n",
       "      <td>3p</td>\n",
       "    </tr>\n",
       "    <tr>\n",
       "      <td>p014_T0D_ILE_LPS_3p</td>\n",
       "      <td>11</td>\n",
       "      <td>nh</td>\n",
       "      <td>c</td>\n",
       "      <td>F</td>\n",
       "      <td>RESP</td>\n",
       "      <td>Y</td>\n",
       "      <td>CD</td>\n",
       "      <td>p014</td>\n",
       "      <td>T0D</td>\n",
       "      <td>ILE</td>\n",
       "      <td>3p</td>\n",
       "    </tr>\n",
       "    <tr>\n",
       "      <td>p014_T0D_ILE_LPS_3p</td>\n",
       "      <td>11</td>\n",
       "      <td>nh</td>\n",
       "      <td>c</td>\n",
       "      <td>F</td>\n",
       "      <td>RESP</td>\n",
       "      <td>Y</td>\n",
       "      <td>CD</td>\n",
       "      <td>p014</td>\n",
       "      <td>T0D</td>\n",
       "      <td>ILE</td>\n",
       "      <td>3p</td>\n",
       "    </tr>\n",
       "    <tr>\n",
       "      <td>p014_T0D_ILE_LPS_3p</td>\n",
       "      <td>11</td>\n",
       "      <td>nh</td>\n",
       "      <td>c</td>\n",
       "      <td>F</td>\n",
       "      <td>RESP</td>\n",
       "      <td>Y</td>\n",
       "      <td>CD</td>\n",
       "      <td>p014</td>\n",
       "      <td>T0D</td>\n",
       "      <td>ILE</td>\n",
       "      <td>3p</td>\n",
       "    </tr>\n",
       "    <tr>\n",
       "      <td>p014_T0D_ILE_LPS_3p</td>\n",
       "      <td>11</td>\n",
       "      <td>nh</td>\n",
       "      <td>c</td>\n",
       "      <td>F</td>\n",
       "      <td>RESP</td>\n",
       "      <td>Y</td>\n",
       "      <td>CD</td>\n",
       "      <td>p014</td>\n",
       "      <td>T0D</td>\n",
       "      <td>ILE</td>\n",
       "      <td>3p</td>\n",
       "    </tr>\n",
       "  </tbody>\n",
       "</table>\n",
       "</div>"
      ],
      "text/plain": [
       "                     age ethnicity race sex antiTNF_response inflammation  \\\n",
       "entity:smp_id                                                               \n",
       "p014_T0D_ILE_LPS_3p   11        nh    c   F             RESP            Y   \n",
       "p014_T0D_ILE_LPS_3p   11        nh    c   F             RESP            Y   \n",
       "p014_T0D_ILE_LPS_3p   11        nh    c   F             RESP            Y   \n",
       "p014_T0D_ILE_LPS_3p   11        nh    c   F             RESP            Y   \n",
       "p014_T0D_ILE_LPS_3p   11        nh    c   F             RESP            Y   \n",
       "\n",
       "                    disease patient time_point tissue prime  \n",
       "entity:smp_id                                                \n",
       "p014_T0D_ILE_LPS_3p      CD    p014        T0D    ILE    3p  \n",
       "p014_T0D_ILE_LPS_3p      CD    p014        T0D    ILE    3p  \n",
       "p014_T0D_ILE_LPS_3p      CD    p014        T0D    ILE    3p  \n",
       "p014_T0D_ILE_LPS_3p      CD    p014        T0D    ILE    3p  \n",
       "p014_T0D_ILE_LPS_3p      CD    p014        T0D    ILE    3p  "
      ]
     },
     "execution_count": 11,
     "metadata": {},
     "output_type": "execute_result"
    }
   ],
   "source": [
    "mrgdf.head()"
   ]
  },
  {
   "cell_type": "code",
   "execution_count": 12,
   "metadata": {},
   "outputs": [],
   "source": [
    "df = pd.concat([cdmeta.reset_index(drop=True), mrgdf.reset_index(drop=True)], axis=1)"
   ]
  },
  {
   "cell_type": "code",
   "execution_count": 13,
   "metadata": {},
   "outputs": [],
   "source": [
    "df.to_csv(getenv(\"CD14metafile\"), index=False, sep=\"\\t\")"
   ]
  },
  {
   "cell_type": "code",
   "execution_count": null,
   "metadata": {},
   "outputs": [],
   "source": []
  },
  {
   "cell_type": "code",
   "execution_count": 3,
   "metadata": {},
   "outputs": [],
   "source": [
    "fgmeta = pd.read_csv(getenv(\"FG_MAPPED_CURATED_TSV\"), sep=\"\\t\")"
   ]
  },
  {
   "cell_type": "code",
   "execution_count": 4,
   "metadata": {},
   "outputs": [],
   "source": [
    "fgmeta[\"SampleID\"] = fgmeta.CellID.str.replace(\"_[ACGT]+-1\", \"\")"
   ]
  },
  {
   "cell_type": "code",
   "execution_count": 7,
   "metadata": {},
   "outputs": [],
   "source": [
    "samples.index = samples[\"entity:smp_id\"]"
   ]
  },
  {
   "cell_type": "code",
   "execution_count": 8,
   "metadata": {},
   "outputs": [],
   "source": [
    "mrgdf = samples.loc[fgmeta[\"SampleID\"], [\"age\", \"ethnicity\",\"race\",\"sex\",\n",
    "                                         \"antiTNF_response\", \"inflammation\",\n",
    "                                         \"disease\", \"patient\", \"time_point\",\n",
    "                                         \"tissue\", \"prime\"]]"
   ]
  },
  {
   "cell_type": "code",
   "execution_count": 9,
   "metadata": {},
   "outputs": [
    {
     "data": {
      "text/html": [
       "<div>\n",
       "<style scoped>\n",
       "    .dataframe tbody tr th:only-of-type {\n",
       "        vertical-align: middle;\n",
       "    }\n",
       "\n",
       "    .dataframe tbody tr th {\n",
       "        vertical-align: top;\n",
       "    }\n",
       "\n",
       "    .dataframe thead th {\n",
       "        text-align: right;\n",
       "    }\n",
       "</style>\n",
       "<table border=\"1\" class=\"dataframe\">\n",
       "  <thead>\n",
       "    <tr style=\"text-align: right;\">\n",
       "      <th></th>\n",
       "      <th>age</th>\n",
       "      <th>ethnicity</th>\n",
       "      <th>race</th>\n",
       "      <th>sex</th>\n",
       "      <th>antiTNF_response</th>\n",
       "      <th>inflammation</th>\n",
       "      <th>disease</th>\n",
       "      <th>patient</th>\n",
       "      <th>time_point</th>\n",
       "      <th>tissue</th>\n",
       "      <th>prime</th>\n",
       "    </tr>\n",
       "    <tr>\n",
       "      <th>entity:smp_id</th>\n",
       "      <th></th>\n",
       "      <th></th>\n",
       "      <th></th>\n",
       "      <th></th>\n",
       "      <th></th>\n",
       "      <th></th>\n",
       "      <th></th>\n",
       "      <th></th>\n",
       "      <th></th>\n",
       "      <th></th>\n",
       "      <th></th>\n",
       "    </tr>\n",
       "  </thead>\n",
       "  <tbody>\n",
       "    <tr>\n",
       "      <td>p049_T0D_ILE_LPS_3p</td>\n",
       "      <td>11</td>\n",
       "      <td>nh</td>\n",
       "      <td>c</td>\n",
       "      <td>M</td>\n",
       "      <td>NM</td>\n",
       "      <td>N</td>\n",
       "      <td>FGID</td>\n",
       "      <td>p049</td>\n",
       "      <td>T0D</td>\n",
       "      <td>ILE</td>\n",
       "      <td>3p</td>\n",
       "    </tr>\n",
       "    <tr>\n",
       "      <td>p049_T0D_ILE_LPS_3p</td>\n",
       "      <td>11</td>\n",
       "      <td>nh</td>\n",
       "      <td>c</td>\n",
       "      <td>M</td>\n",
       "      <td>NM</td>\n",
       "      <td>N</td>\n",
       "      <td>FGID</td>\n",
       "      <td>p049</td>\n",
       "      <td>T0D</td>\n",
       "      <td>ILE</td>\n",
       "      <td>3p</td>\n",
       "    </tr>\n",
       "    <tr>\n",
       "      <td>p049_T0D_ILE_LPS_3p</td>\n",
       "      <td>11</td>\n",
       "      <td>nh</td>\n",
       "      <td>c</td>\n",
       "      <td>M</td>\n",
       "      <td>NM</td>\n",
       "      <td>N</td>\n",
       "      <td>FGID</td>\n",
       "      <td>p049</td>\n",
       "      <td>T0D</td>\n",
       "      <td>ILE</td>\n",
       "      <td>3p</td>\n",
       "    </tr>\n",
       "    <tr>\n",
       "      <td>p049_T0D_ILE_LPS_3p</td>\n",
       "      <td>11</td>\n",
       "      <td>nh</td>\n",
       "      <td>c</td>\n",
       "      <td>M</td>\n",
       "      <td>NM</td>\n",
       "      <td>N</td>\n",
       "      <td>FGID</td>\n",
       "      <td>p049</td>\n",
       "      <td>T0D</td>\n",
       "      <td>ILE</td>\n",
       "      <td>3p</td>\n",
       "    </tr>\n",
       "    <tr>\n",
       "      <td>p049_T0D_ILE_LPS_3p</td>\n",
       "      <td>11</td>\n",
       "      <td>nh</td>\n",
       "      <td>c</td>\n",
       "      <td>M</td>\n",
       "      <td>NM</td>\n",
       "      <td>N</td>\n",
       "      <td>FGID</td>\n",
       "      <td>p049</td>\n",
       "      <td>T0D</td>\n",
       "      <td>ILE</td>\n",
       "      <td>3p</td>\n",
       "    </tr>\n",
       "  </tbody>\n",
       "</table>\n",
       "</div>"
      ],
      "text/plain": [
       "                     age ethnicity race sex antiTNF_response inflammation  \\\n",
       "entity:smp_id                                                               \n",
       "p049_T0D_ILE_LPS_3p   11        nh    c   M               NM            N   \n",
       "p049_T0D_ILE_LPS_3p   11        nh    c   M               NM            N   \n",
       "p049_T0D_ILE_LPS_3p   11        nh    c   M               NM            N   \n",
       "p049_T0D_ILE_LPS_3p   11        nh    c   M               NM            N   \n",
       "p049_T0D_ILE_LPS_3p   11        nh    c   M               NM            N   \n",
       "\n",
       "                    disease patient time_point tissue prime  \n",
       "entity:smp_id                                                \n",
       "p049_T0D_ILE_LPS_3p    FGID    p049        T0D    ILE    3p  \n",
       "p049_T0D_ILE_LPS_3p    FGID    p049        T0D    ILE    3p  \n",
       "p049_T0D_ILE_LPS_3p    FGID    p049        T0D    ILE    3p  \n",
       "p049_T0D_ILE_LPS_3p    FGID    p049        T0D    ILE    3p  \n",
       "p049_T0D_ILE_LPS_3p    FGID    p049        T0D    ILE    3p  "
      ]
     },
     "execution_count": 9,
     "metadata": {},
     "output_type": "execute_result"
    }
   ],
   "source": [
    "mrgdf.head()"
   ]
  },
  {
   "cell_type": "code",
   "execution_count": 10,
   "metadata": {},
   "outputs": [],
   "source": [
    "df = pd.concat([fgmeta.reset_index(drop=True), mrgdf.reset_index(drop=True)], axis=1)"
   ]
  },
  {
   "cell_type": "code",
   "execution_count": 11,
   "metadata": {},
   "outputs": [],
   "source": [
    "df.to_csv(getenv(\"FG13metafile\"), index=False, sep=\"\\t\")"
   ]
  },
  {
   "cell_type": "code",
   "execution_count": null,
   "metadata": {},
   "outputs": [],
   "source": []
  }
 ],
 "metadata": {
  "kernelspec": {
   "display_name": "Python 3",
   "language": "python",
   "name": "python3"
  },
  "language_info": {
   "codemirror_mode": {
    "name": "ipython",
    "version": 3
   },
   "file_extension": ".py",
   "mimetype": "text/x-python",
   "name": "python",
   "nbconvert_exporter": "python",
   "pygments_lexer": "ipython3",
   "version": "3.9.4"
  }
 },
 "nbformat": 4,
 "nbformat_minor": 4
}
