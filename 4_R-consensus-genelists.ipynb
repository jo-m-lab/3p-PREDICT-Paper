{
 "cells": [
  {
   "cell_type": "markdown",
   "metadata": {},
   "source": [
    "# Setup"
   ]
  },
  {
   "cell_type": "code",
   "execution_count": null,
   "metadata": {},
   "outputs": [],
   "source": [
    "dotenv::load_dot_env()"
   ]
  },
  {
   "cell_type": "code",
   "execution_count": 6,
   "metadata": {},
   "outputs": [
    {
     "name": "stderr",
     "output_type": "stream",
     "text": [
      "── \u001b[1mAttaching packages\u001b[22m ─────────────────────────────────────── tidyverse 1.3.0 ──\n",
      "\n",
      "\u001b[32m✔\u001b[39m \u001b[34mggplot2\u001b[39m 3.3.0     \u001b[32m✔\u001b[39m \u001b[34mpurrr  \u001b[39m 0.3.3\n",
      "\u001b[32m✔\u001b[39m \u001b[34mtibble \u001b[39m 3.0.0     \u001b[32m✔\u001b[39m \u001b[34mdplyr  \u001b[39m 0.8.5\n",
      "\u001b[32m✔\u001b[39m \u001b[34mtidyr  \u001b[39m 1.0.2     \u001b[32m✔\u001b[39m \u001b[34mstringr\u001b[39m 1.4.0\n",
      "\u001b[32m✔\u001b[39m \u001b[34mreadr  \u001b[39m 1.3.1     \u001b[32m✔\u001b[39m \u001b[34mforcats\u001b[39m 0.4.0\n",
      "\n",
      "── \u001b[1mConflicts\u001b[22m ────────────────────────────────────────── tidyverse_conflicts() ──\n",
      "\u001b[31m✖\u001b[39m \u001b[34mdplyr\u001b[39m::\u001b[32mfilter()\u001b[39m masks \u001b[34mstats\u001b[39m::filter()\n",
      "\u001b[31m✖\u001b[39m \u001b[34mdplyr\u001b[39m::\u001b[32mlag()\u001b[39m    masks \u001b[34mstats\u001b[39m::lag()\n",
      "\n"
     ]
    }
   ],
   "source": [
    "library(Seurat)\n",
    "library(tidyverse)"
   ]
  },
  {
   "cell_type": "code",
   "execution_count": 7,
   "metadata": {},
   "outputs": [],
   "source": [
    "fg13 = readRDS(Sys.getenv(\"FG13srobj\"))\n",
    "fgmeta = read.table(Sys.getenv(\"FG13metafile\"), sep=\"\\t\", header=1) %>% column_to_rownames('CellID')\n",
    "fg13@meta.data = fgmeta[colnames(fg13), ] \n",
    "fg13$tier1name = gsub(\"Hs\\\\.\", \"FG\\\\.\", fg13$tier1name)"
   ]
  },
  {
   "cell_type": "code",
   "execution_count": 8,
   "metadata": {},
   "outputs": [],
   "source": [
    "cd14 = readRDS(Sys.getenv(\"CD14srobj\"))\n",
    "cdmeta = read.table(Sys.getenv(\"CD14metafile\"), sep=\"\\t\", header=1) %>% column_to_rownames('CellID')\n",
    "cd14@meta.data = cdmeta[colnames(cd14), ]"
   ]
  },
  {
   "cell_type": "code",
   "execution_count": 15,
   "metadata": {},
   "outputs": [],
   "source": [
    "fg13 = fg13[, !grepl(\"(Doub)|(LowQual)\", fg13$type)]\n",
    "cd14 = cd14[, !grepl(\"(Doub)|(LowQual)\", cd14$type)]"
   ]
  },
  {
   "cell_type": "code",
   "execution_count": 17,
   "metadata": {},
   "outputs": [
    {
     "data": {
      "text/plain": [
       "An object of class Seurat \n",
       "44291 features across 89849 samples within 2 assays \n",
       "Active assay: SCT (21591 features)\n",
       " 1 other assay present: RNA\n",
       " 2 dimensional reductions calculated: pca, umap"
      ]
     },
     "metadata": {},
     "output_type": "display_data"
    }
   ],
   "source": [
    "fg13"
   ]
  },
  {
   "cell_type": "code",
   "execution_count": 18,
   "metadata": {},
   "outputs": [
    {
     "data": {
      "text/plain": [
       "An object of class Seurat \n",
       "44884 features across 107432 samples within 2 assays \n",
       "Active assay: SCT (21865 features)\n",
       " 1 other assay present: RNA\n",
       " 2 dimensional reductions calculated: pca, umap"
      ]
     },
     "metadata": {},
     "output_type": "display_data"
    }
   ],
   "source": [
    "cd14"
   ]
  },
  {
   "cell_type": "code",
   "execution_count": 1,
   "metadata": {},
   "outputs": [],
   "source": [
    "OUTDIR = Sys.getenv(\"CONSENSUS_MARKERS_DIR\")"
   ]
  },
  {
   "cell_type": "markdown",
   "metadata": {},
   "source": [
    "# Find all markers (Cell Type)"
   ]
  },
  {
   "cell_type": "code",
   "execution_count": null,
   "metadata": {},
   "outputs": [],
   "source": [
    "Idents(fg13) = fg13$tier1name\n",
    "fgmarks = FindAllMarkers(fg13, assay=\"RNA\", only.pos=TRUE, max.cells.per.ident=10000, test.use=\"wilcox\")"
   ]
  },
  {
   "cell_type": "code",
   "execution_count": null,
   "metadata": {},
   "outputs": [],
   "source": [
    "Idents(cd14) = cd14$tier1name\n",
    "cdmarks = FindAllMarkers(cd14, assay=\"RNA\", only.pos=TRUE, max.cells.per.ident=10000, test.use=\"wilcox\")"
   ]
  },
  {
   "cell_type": "code",
   "execution_count": null,
   "metadata": {},
   "outputs": [],
   "source": [
    "cdmarks %>% write.table(file.path(OUTDIR, \"CD14_celltype_markers.tsv\"),sep=\"\\t\",row.names = FALSE)\n",
    "fgmarks %>% write.table(file.path(OUTDIR, \"FG13_celltype_markers.tsv\"),sep=\"\\t\",row.names = FALSE)"
   ]
  },
  {
   "cell_type": "markdown",
   "metadata": {},
   "source": [
    "# Consensus markers (cell group)"
   ]
  },
  {
   "cell_type": "code",
   "execution_count": 20,
   "metadata": {},
   "outputs": [],
   "source": [
    "get_merged_typenames = function(names, fctr) {\n",
    "    grps = levels(fctr)\n",
    "    nms = c()\n",
    "    for(grp in grps) {\n",
    "        nms = c(nms, c(names[fctr == grp] %>% \n",
    "            unique %>% \n",
    "            str_split(., pattern=\"\\\\.\", simplify=TRUE) %>% .[,2] %>% \n",
    "            table %>% sort %>% rev %>% names %>% paste(collapse=\"_\")))\n",
    "    }  \n",
    "    return(make.unique(nms))\n",
    "}"
   ]
  },
  {
   "cell_type": "code",
   "execution_count": 2,
   "metadata": {},
   "outputs": [
    {
     "data": {
      "text/html": [
       "<style>\n",
       ".list-inline {list-style: none; margin:0; padding: 0}\n",
       ".list-inline>li {display: inline-block}\n",
       ".list-inline>li:not(:last-child)::after {content: \"\\00b7\"; padding: 0 .5ex}\n",
       "</style>\n",
       "<ol class=list-inline><li>'Bclls_dotmetrics.tsv'</li><li>'Endth_dotmetrics.tsv'</li><li>'Epith_dotmetrics.tsv'</li><li>'Fibro_dotmetrics.tsv'</li><li>'Fibroblast_dotmetrics.tsv'</li><li>'Mloid_dotmetrics.tsv'</li><li>'Tclls_dotmetrics.tsv'</li></ol>\n"
      ],
      "text/latex": [
       "\\begin{enumerate*}\n",
       "\\item 'Bclls\\_dotmetrics.tsv'\n",
       "\\item 'Endth\\_dotmetrics.tsv'\n",
       "\\item 'Epith\\_dotmetrics.tsv'\n",
       "\\item 'Fibro\\_dotmetrics.tsv'\n",
       "\\item 'Fibroblast\\_dotmetrics.tsv'\n",
       "\\item 'Mloid\\_dotmetrics.tsv'\n",
       "\\item 'Tclls\\_dotmetrics.tsv'\n",
       "\\end{enumerate*}\n"
      ],
      "text/markdown": [
       "1. 'Bclls_dotmetrics.tsv'\n",
       "2. 'Endth_dotmetrics.tsv'\n",
       "3. 'Epith_dotmetrics.tsv'\n",
       "4. 'Fibro_dotmetrics.tsv'\n",
       "5. 'Fibroblast_dotmetrics.tsv'\n",
       "6. 'Mloid_dotmetrics.tsv'\n",
       "7. 'Tclls_dotmetrics.tsv'\n",
       "\n",
       "\n"
      ],
      "text/plain": [
       "[1] \"Bclls_dotmetrics.tsv\"      \"Endth_dotmetrics.tsv\"     \n",
       "[3] \"Epith_dotmetrics.tsv\"      \"Fibro_dotmetrics.tsv\"     \n",
       "[5] \"Fibroblast_dotmetrics.tsv\" \"Mloid_dotmetrics.tsv\"     \n",
       "[7] \"Tclls_dotmetrics.tsv\"     "
      ]
     },
     "metadata": {},
     "output_type": "display_data"
    }
   ],
   "source": [
    "list.files('~/randomforest/correspondencedata/')"
   ]
  },
  {
   "cell_type": "code",
   "execution_count": 21,
   "metadata": {},
   "outputs": [],
   "source": [
    "lst = lapply(list.files('~/randomforest/correspondencedata/'), function(f){\n",
    "    tbl = read.table(file.path(\"~/randomforest/correspondencedata\", f), sep=\"\\t\", header=1)\n",
    "    tbl$cdgrpnm = factor(tbl$cdgroup)\n",
    "    levels(tbl$cdgrpnm) = get_merged_typenames(tbl$cd, tbl$cdgrpnm)\n",
    "    tbl$fggrpnm = factor(tbl$fggroup)\n",
    "    levels(tbl$fggrpnm) = get_merged_typenames(tbl$fg, tbl$fggrpnm)\n",
    "    return(tbl)\n",
    "})\n",
    "mappedgroups = data.table::rbindlist(lst)"
   ]
  },
  {
   "cell_type": "markdown",
   "metadata": {},
   "source": [
    "# map groups"
   ]
  },
  {
   "cell_type": "code",
   "execution_count": 22,
   "metadata": {},
   "outputs": [
    {
     "data": {
      "text/plain": [
       "An object of class Seurat \n",
       "44291 features across 89849 samples within 2 assays \n",
       "Active assay: SCT (21591 features)\n",
       " 1 other assay present: RNA\n",
       " 2 dimensional reductions calculated: pca, umap"
      ]
     },
     "metadata": {},
     "output_type": "display_data"
    }
   ],
   "source": [
    "fg13"
   ]
  },
  {
   "cell_type": "code",
   "execution_count": 24,
   "metadata": {},
   "outputs": [],
   "source": [
    "fg13$groupname = as.character(mappedgroups$fggrpnm[match(fg13$curatedname, mappedgroups$fg)])\n",
    "fg13$groupname[is.na(fg13$groupname)] = as.character(fg13$tier1name[is.na(fg13$groupname)])\n",
    "\n",
    "cd14$groupname = as.character(mappedgroups$cdgrpnm[match(cd14$curatedname, mappedgroups$cd)])\n",
    "cd14$groupname[is.na(cd14$groupname)] = as.character(cd14$tier1name[is.na(cd14$groupname)])"
   ]
  },
  {
   "cell_type": "markdown",
   "metadata": {},
   "source": [
    "# markers for cell groups"
   ]
  },
  {
   "cell_type": "code",
   "execution_count": null,
   "metadata": {},
   "outputs": [
    {
     "name": "stderr",
     "output_type": "stream",
     "text": [
      "Calculating cluster T/NK/ILC\n",
      "\n",
      "Calculating cluster Endth/Ven_Endth/Cap_Endth/Art_Endth\n",
      "\n",
      "Calculating cluster B\n",
      "\n",
      "Calculating cluster Fibro\n",
      "\n",
      "Calculating cluster Fibro.1\n",
      "\n",
      "Calculating cluster Hs.IGA_IGL_Plsma\n",
      "\n",
      "Calculating cluster T_Tclls\n",
      "\n",
      "Calculating cluster B/GC\n",
      "\n",
      "Calculating cluster Glial\n",
      "\n",
      "Calculating cluster Hs.IGG_Plsma_Bcll\n",
      "\n",
      "Calculating cluster T_T/NK/ILC_T/NK\n",
      "\n",
      "Calculating cluster Hs.IGA_IGK_Plsma\n",
      "\n",
      "Calculating cluster Hs.Mstcl\n",
      "\n"
     ]
    }
   ],
   "source": [
    "Idents(fg13) = fg13$groupname\n",
    "fgmarks = FindAllMarkers(fg13, assay=\"RNA\", only.pos=TRUE, max.cells.per.ident=10000, test.use=\"wilcox\")"
   ]
  },
  {
   "cell_type": "code",
   "execution_count": null,
   "metadata": {},
   "outputs": [],
   "source": [
    "Idents(cd14) = cd14$groupname\n",
    "cdmarks = FindAllMarkers(cd14, assay=\"RNA\", only.pos=TRUE, max.cells.per.ident=10000, test.use=\"wilcox\")"
   ]
  },
  {
   "cell_type": "code",
   "execution_count": null,
   "metadata": {},
   "outputs": [],
   "source": [
    "cdmarks %>% write.table(file.path(OUTDIR, \"CD14_cellgroup_markers.tsv\"),sep=\"\\t\",row.names=FALSE)\n",
    "fgmarks %>% write.table(file.path(OUTDIR, \"FG13_cellgroup_markers.tsv\"),sep=\"\\t\",row.names=FALSE)"
   ]
  },
  {
   "cell_type": "markdown",
   "metadata": {},
   "source": [
    "# markers for cell subsets"
   ]
  },
  {
   "cell_type": "code",
   "execution_count": null,
   "metadata": {},
   "outputs": [],
   "source": [
    "Idents(fg13) = fg13$curatedname\n",
    "fgmarks = FindAllMarkers(fg13, assay=\"RNA\", only.pos=TRUE, max.cells.per.ident=10000, test.use=\"wilcox\")"
   ]
  },
  {
   "cell_type": "code",
   "execution_count": null,
   "metadata": {},
   "outputs": [],
   "source": [
    "Idents(cd14) = cd14$curatedname\n",
    "cdmarks = FindAllMarkers(cd14, assay=\"RNA\", only.pos=TRUE, max.cells.per.ident=10000, test.use=\"wilcox\")"
   ]
  },
  {
   "cell_type": "code",
   "execution_count": null,
   "metadata": {},
   "outputs": [],
   "source": [
    "cdmarks %>% write.table(file.path(OUTDIR, \"CD14_cellsubsets_markers.tsv\"),sep=\"\\t\",row.names=FALSE)\n",
    "fgmarks %>% write.table(file.path(OUTDIR, \"FG13_cellsubsets_markers.tsv\"),sep=\"\\t\",row.names=FALSE)"
   ]
  },
  {
   "cell_type": "code",
   "execution_count": null,
   "metadata": {},
   "outputs": [],
   "source": []
  }
 ],
 "metadata": {
  "kernelspec": {
   "display_name": "R",
   "language": "R",
   "name": "ir"
  },
  "language_info": {
   "codemirror_mode": "r",
   "file_extension": ".r",
   "mimetype": "text/x-r-source",
   "name": "R",
   "pygments_lexer": "r",
   "version": "3.6.2"
  },
  "toc": {
   "base_numbering": 1,
   "nav_menu": {},
   "number_sections": true,
   "sideBar": true,
   "skip_h1_title": false,
   "title_cell": "Table of Contents",
   "title_sidebar": "Contents",
   "toc_cell": false,
   "toc_position": {},
   "toc_section_display": true,
   "toc_window_display": false
  }
 },
 "nbformat": 4,
 "nbformat_minor": 4
}
