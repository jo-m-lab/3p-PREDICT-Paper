{
 "cells": [
  {
   "cell_type": "code",
   "execution_count": null,
   "metadata": {},
   "outputs": [],
   "source": [
    "from dotenv import load_dotenv\n",
    "from os import getenv\n",
    "load_dotenv()"
   ]
  },
  {
   "cell_type": "code",
   "execution_count": null,
   "metadata": {},
   "outputs": [],
   "source": [
    "!ls -l train_model.py"
   ]
  },
  {
   "cell_type": "code",
   "execution_count": null,
   "metadata": {},
   "outputs": [],
   "source": [
    "!dstat --provider google-v2 --project shalek-lab --users 'ben' --status '*' --age 1d # --names \"rf-bclls\" --full"
   ]
  },
  {
   "cell_type": "markdown",
   "metadata": {},
   "source": [
    "# FGID"
   ]
  },
  {
   "cell_type": "code",
   "execution_count": null,
   "metadata": {},
   "outputs": [],
   "source": [
    "# FGID \n",
    "clusts = {\n",
    "    0: \"Tclls\",\n",
    "    1: \"Bclls\", \n",
    "    2: \"Epith\", \n",
    "    3: \"Mloid\", \n",
    "    4: \"IGA_IGK_Plsma\", \n",
    "#     5: \"Fibro\", \n",
    "    6: \"IGA_IGL_Plsma\", \n",
    "    7: \"Mstcl\", \n",
    "    8: \"Endth\", \n",
    "#     9: \"Glial\", \n",
    "    11: \"IGG_Plsma_Bcll\"\n",
    "}"
   ]
  },
  {
   "cell_type": "code",
   "execution_count": null,
   "metadata": {},
   "outputs": [],
   "source": [
    "clusts"
   ]
  },
  {
   "cell_type": "code",
   "execution_count": null,
   "metadata": {},
   "outputs": [],
   "source": [
    "BUCKET = getenv(\"PREDICT_BUCKET\") # PREDICT STUDY bucket"
   ]
  },
  {
   "cell_type": "code",
   "execution_count": null,
   "metadata": {},
   "outputs": [],
   "source": [
    "for k, v in clusts.items():\n",
    "    !dsub \\\n",
    "        --name RF_{v} \\\n",
    "        --provider google-v2 \\\n",
    "        --project shalek-lab \\\n",
    "        --logging gs://{BUCKET}/Tiered-FGID-13/logging \\\n",
    "        --regions us-central1 \\\n",
    "        --boot-disk-size 15  --timeout 4d \\\n",
    "        --min-ram 256 --min-cores 16 --disk-size 500 \\\n",
    "        --input LOOMFILE=gs://{BUCKET}/Tiered-FGID-13/loomfiles/T1C{k}_SCT_data.loom \\\n",
    "        --input METAFILE=gs://{BUCKET}/Tiered-FGID-13/20200630_clmeta_FG13_all.tsv \\\n",
    "        --input PARAMFILE=gs://{BUCKET}/Tiered-FGID-13/randomforest/20200421_randomforest_params.yml \\\n",
    "        --output OUTMODEL=gs://{BUCKET}/Tiered-FGID-13/randomforest/2022rep_models/FGID_T1C{k}_{v}_SCT_data.pkl \\\n",
    "        --output OUTRESULT_UPSAMPLE=gs://{BUCKET}/Tiered-FGID-13/randomforest/2022rep_results/FGID_T1C{k}_{v}_SCT_data_upsample.csv \\\n",
    "        --output OUTRESULT_5FOLDCV=gs://{BUCKET}/Tiered-FGID-13/randomforest/2022rep_results/FGID_T1C{k}_{v}_SCT_data_5foldCV.csv \\\n",
    "        --env CLASSCOLUMN=\"curatedname\" \\\n",
    "        --image shaleklab/terra-seurat-env:release-v2.0 \\\n",
    "        --script train_model.py"
   ]
  },
  {
   "cell_type": "code",
   "execution_count": null,
   "metadata": {},
   "outputs": [],
   "source": [
    "!dstat --provider google-v2 --project shalek-lab --users 'ben' --status '*' --age 1d "
   ]
  },
  {
   "cell_type": "markdown",
   "metadata": {},
   "source": [
    "# CD"
   ]
  },
  {
   "cell_type": "code",
   "execution_count": null,
   "metadata": {},
   "outputs": [],
   "source": [
    "# CD \n",
    "clusts = {  \n",
    "    0: \"Tclls\",\n",
    "    1: \"Bclls\",\n",
    "    # 2: \"Epith\",\n",
    "    3: \"Mloid\",\n",
    "    4: \"IGA_IGK_Plsma\",\n",
    "    5: \"Fibro\",\n",
    "    6: \"IGG_Plsma\",\n",
    "    7: \"IGA_IGL_Plsma\",\n",
    "    8: \"Mstcl\",\n",
    "    9: \"Endth\",\n",
    "#     10: \"IGM_Plsma\",\n",
    "#     11: \"Paneth\"\n",
    "}"
   ]
  },
  {
   "cell_type": "code",
   "execution_count": null,
   "metadata": {},
   "outputs": [],
   "source": [
    "clusts"
   ]
  },
  {
   "cell_type": "code",
   "execution_count": null,
   "metadata": {},
   "outputs": [],
   "source": [
    "BUCKET"
   ]
  },
  {
   "cell_type": "code",
   "execution_count": null,
   "metadata": {},
   "outputs": [],
   "source": [
    "BUCKET = getenv(\"PREDICT_BUCKET\") # PREDICT STUDY bucket"
   ]
  },
  {
   "cell_type": "code",
   "execution_count": null,
   "metadata": {},
   "outputs": [],
   "source": [
    "for k, v in clusts.items():\n",
    "    !dsub \\\n",
    "        --name cd-rf-{v} \\\n",
    "        --provider google-v2 \\\n",
    "        --project shalek-lab \\\n",
    "        --logging gs://{BUCKET}/Tiered-CD-14/logging \\\n",
    "        --regions us-central1 \\\n",
    "        --boot-disk-size 15  --timeout 4d \\\n",
    "        --min-ram 256 --min-cores 16 --disk-size 500 \\\n",
    "        --input LOOMFILE=gs://{BUCKET}/Tiered-CD-14/loomfiles/T1C{k}_SCT_data.loom \\\n",
    "        --input METAFILE=gs://{BUCKET}/Tiered-CD-14/20200630_clmeta_CD14_all.tsv \\\n",
    "        --input PARAMFILE=gs://{BUCKET}/Tiered-FGID-13/randomforest/20200421_randomforest_params.yml \\\n",
    "        --output OUTMODEL=gs://{BUCKET}/Tiered-CD-14/randomforest/2022rep_models/CD_T1C{k}_{v}_SCT_data.pkl \\\n",
    "        --output OUTRESULT_UPSAMPLE=gs://{BUCKET}/Tiered-CD-14/randomforest/2022rep_results/CD_T1C{k}_{v}_SCT_data_upsample.csv \\\n",
    "        --output OUTRESULT_5FOLDCV=gs://{BUCKET}/Tiered-CD-14/randomforest/2022rep_results/CD_T1C{k}_{v}_SCT_data_5foldCV.csv \\\n",
    "        --env CLASSCOLUMN=\"curatedname\" \\\n",
    "        --image shaleklab/terra-seurat-env:release-v2.0 \\\n",
    "        --script train_model.py"
   ]
  },
  {
   "cell_type": "code",
   "execution_count": null,
   "metadata": {},
   "outputs": [],
   "source": [
    "!dstat --provider google-v2 --project shalek-lab --users 'ben' --status --age 12h # --names \"rf-bclls\" --full"
   ]
  },
  {
   "cell_type": "markdown",
   "metadata": {},
   "source": [
    "# Weirdo groups"
   ]
  },
  {
   "cell_type": "code",
   "execution_count": null,
   "metadata": {},
   "outputs": [],
   "source": [
    "!dsub \\\n",
    "    --name fgid-fibroglial \\\n",
    "    --provider google-v2 \\\n",
    "    --project shalek-lab \\\n",
    "    --logging gs://{BUCKET}/Tiered-FGID-13/logging \\\n",
    "    --regions us-central1 \\\n",
    "    --boot-disk-size 15  --timeout 4d \\\n",
    "    --min-ram 128 --min-cores 16 --disk-size 500 \\\n",
    "    --input LOOMFILE=gs://{BUCKET}/Tiered-FGID-13/loomfiles/FGID_fibro_glial.loom \\\n",
    "    --input METAFILE=gs://{BUCKET}/Tiered-FGID-13/20200630_clmeta_FG13_all.tsv \\\n",
    "    --input PARAMFILE=gs://{BUCKET}/Tiered-FGID-13/randomforest/20200421_randomforest_params.yml \\\n",
    "    --output OUTMODEL=gs://{BUCKET}/Tiered-FGID-13/randomforest/2022rep_models/FGID_fibro_glial_SCT_data.pkl \\\n",
    "    --output OUTRESULT_UPSAMPLE=gs://{BUCKET}/Tiered-FGID-13/randomforest/2022rep_results/FGID_fibro_glial_SCT_data_upsample.csv \\\n",
    "    --output OUTRESULT_5FOLDCV=gs://{BUCKET}/Tiered-FGID-13/randomforest/2022rep_results/FGID_fibro_glial_SCT_data_5foldCV.csv \\\n",
    "    --env CLASSCOLUMN=\"curatedname\" \\\n",
    "    --image shaleklab/terra-seurat-env:release-v2.0 \\\n",
    "    --script train_model.py"
   ]
  },
  {
   "cell_type": "code",
   "execution_count": null,
   "metadata": {},
   "outputs": [],
   "source": [
    "!dsub \\\n",
    "        --name cd-epithpaneth \\\n",
    "        --provider google-v2 \\\n",
    "        --project shalek-lab \\\n",
    "        --logging gs://{BUCKET}/Tiered-CD-14/logging \\\n",
    "        --regions us-central1 \\\n",
    "        --boot-disk-size 15  --timeout 4d \\\n",
    "        --min-ram 128 --min-cores 16 --disk-size 500 \\\n",
    "        --input LOOMFILE=gs://{BUCKET}/Tiered-CD-14/loomfiles/CD_epith_paneth.loom \\\n",
    "        --input METAFILE=gs://{BUCKET}/Tiered-CD-14/20200630_clmeta_CD14_all.tsv \\\n",
    "        --input PARAMFILE=gs://{BUCKET}/Tiered-FGID-13/randomforest/20200421_randomforest_params.yml \\\n",
    "        --output OUTMODEL=gs://{BUCKET}/Tiered-CD-14/randomforest/2022rep_models/CD_epith_paneth_SCT_data.pkl \\\n",
    "        --output OUTRESULT_UPSAMPLE=gs://{BUCKET}/Tiered-CD-14/randomforest/2022rep_results/CD_epith_paneth_SCT_data_upsample.csv \\\n",
    "        --output OUTRESULT_5FOLDCV=gs://{BUCKET}/Tiered-CD-14/randomforest/2022rep_results/CD_epith_paneth_SCT_data_5foldCV.csv \\\n",
    "        --env CLASSCOLUMN=\"curatedname\" \\\n",
    "        --image shaleklab/terra-seurat-env:release-v2.0 \\\n",
    "        --script train_model.py"
   ]
  },
  {
   "cell_type": "code",
   "execution_count": null,
   "metadata": {},
   "outputs": [],
   "source": []
  }
 ],
 "metadata": {
  "kernelspec": {
   "display_name": "Python 3",
   "language": "python",
   "name": "python3"
  },
  "language_info": {
   "codemirror_mode": {
    "name": "ipython",
    "version": 3
   },
   "file_extension": ".py",
   "mimetype": "text/x-python",
   "name": "python",
   "nbconvert_exporter": "python",
   "pygments_lexer": "ipython3",
   "version": "3.9.0"
  }
 },
 "nbformat": 4,
 "nbformat_minor": 4
}
