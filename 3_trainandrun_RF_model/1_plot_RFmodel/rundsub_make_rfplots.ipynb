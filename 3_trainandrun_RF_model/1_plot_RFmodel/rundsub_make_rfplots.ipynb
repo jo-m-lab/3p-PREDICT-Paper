{
 "cells": [
  {
   "cell_type": "code",
   "execution_count": 1,
   "metadata": {},
   "outputs": [],
   "source": [
    "import os\n",
    "from dotenv import load_dotenv\n",
    "from os import getenv\n",
    "load_dotenv()"
   ]
  },
  {
   "cell_type": "code",
   "execution_count": 2,
   "metadata": {},
   "outputs": [],
   "source": [
    "from datetime import datetime"
   ]
  },
  {
   "cell_type": "code",
   "execution_count": 3,
   "metadata": {},
   "outputs": [
    {
     "data": {
      "text/plain": [
       "'20200702-152750'"
      ]
     },
     "execution_count": 3,
     "metadata": {},
     "output_type": "execute_result"
    }
   ],
   "source": [
    "datetime.now().strftime(\"%Y%m%d-%H%M%S\")"
   ]
  },
  {
   "cell_type": "code",
   "execution_count": 20,
   "metadata": {},
   "outputs": [],
   "source": [
    "PREDICT_BUCKET = os.getenv(\"PREDICT_BUCKET\") # PREDICT STUDY bucket\n",
    "\n",
    "task_description = {\n",
    "    \"Mloid\": {\n",
    "        \"FGID13FILE\": f\"gs://{PREDICT_BUCKET}/Tiered-FGID-13/loomfiles/T1C3_SCT_data.loom\",\n",
    "        \"CD14FILE\": f\"gs://{PREDICT_BUCKET}/Tiered-CD-14/loomfiles/T1C3_SCT_data.loom\",\n",
    "        \"FGID13MODEL\": f\"gs://{PREDICT_BUCKET}/Tiered-FGID-13/randomforest/curated_models/FGID_T1C3_Mloid_SCT_data.pkl\",\n",
    "        \"CD14MODEL\": f\"gs://{PREDICT_BUCKET}/Tiered-CD-14/randomforest/curated_models/CD_T1C3_Mloid_SCT_data.pkl\",\n",
    "        \"FGID13META\": f\"gs://{PREDICT_BUCKET}/Tiered-FGID-13/20200630_clmeta_FG13_all.tsv\",\n",
    "        \"CD14META\": f\"gs://{PREDICT_BUCKET}/Tiered-CD-14/20200630_clmeta_CD14_all.tsv\",  \n",
    "        \"CLASSCOLUMN\": \"curatedname\",\n",
    "    },\n",
    "    \"Fibro\": {\n",
    "        \"FGID13FILE\": f\"gs://{PREDICT_BUCKET}/Tiered-FGID-13/loomfiles/FGID_fibro_glial.loom\",\n",
    "        \"CD14FILE\": f\"gs://{PREDICT_BUCKET}/Tiered-CD-14/loomfiles/T1C5_SCT_data.loom\",\n",
    "        \"FGID13MODEL\": f\"gs://{PREDICT_BUCKET}/Tiered-FGID-13/randomforest/nodoublet_models/FGID_fibro_glial_SCT_data.pkl\",\n",
    "        \"CD14MODEL\": f\"gs://{PREDICT_BUCKET}/Tiered-CD-14/randomforest/nodoublet_models/CD_T1C5_Fibro_SCT_data.pkl\",\n",
    "        \"FGID13META\": f\"gs://{PREDICT_BUCKET}/Tiered-FGID-13/20200422_clmeta_FGID13_all.tsv\",\n",
    "        \"CD14META\": f\"gs://{PREDICT_BUCKET}/Tiered-CD-14/20200422_clmeta_CD14_all.tsv\",\n",
    "        \"CLASSCOLUMN\": \"tierNname\",\n",
    "    },\n",
    "    \"Bclls\": {\n",
    "        \"FGID13FILE\": f\"gs://{PREDICT_BUCKET}/Tiered-FGID-13/loomfiles/T1C1_SCT_data.loom\",\n",
    "        \"CD14FILE\": f\"gs://{PREDICT_BUCKET}/Tiered-CD-14/loomfiles/T1C1_SCT_data.loom\",\n",
    "        \"FGID13MODEL\": f\"gs://{PREDICT_BUCKET}/Tiered-FGID-13/randomforest/nodoublet_models/FGID_T1C1_Bclls_SCT_data.pkl\",\n",
    "        \"CD14MODEL\": f\"gs://{PREDICT_BUCKET}/Tiered-CD-14/randomforest/nodoublet_models/CD_T1C1_Bclls_SCT_data.pkl\",\n",
    "        \"FGID13META\": f\"gs://{PREDICT_BUCKET}/Tiered-FGID-13/20200422_clmeta_FGID13_all.tsv\",\n",
    "        \"CD14META\": f\"gs://{PREDICT_BUCKET}/Tiered-CD-14/20200422_clmeta_CD14_all.tsv\",\n",
    "        \"CLASSCOLUMN\": \"tierNname\",\n",
    "    },\n",
    "    \"Tclls\": {\n",
    "        \"FGID13FILE\": f\"gs://{PREDICT_BUCKET}/Tiered-FGID-13/loomfiles/T1C0_SCT_data.loom\",\n",
    "        \"CD14FILE\": f\"gs://{PREDICT_BUCKET}/Tiered-CD-14/loomfiles/T1C0_SCT_data.loom\",\n",
    "        \"FGID13MODEL\": f\"gs://{PREDICT_BUCKET}/Tiered-FGID-13/randomforest/curated_models/FGID_T1C0_Tclls_SCT_data.pkl\",\n",
    "        \"CD14MODEL\": f\"gs://{PREDICT_BUCKET}/Tiered-CD-14/randomforest/curated_models/CD_T1C0_Tclls_SCT_data.pkl\",\n",
    "        \"FGID13META\": f\"gs://{PREDICT_BUCKET}/Tiered-FGID-13/20200630_clmeta_FG13_all.tsv\",\n",
    "        \"CD14META\": f\"gs://{PREDICT_BUCKET}/Tiered-CD-14/20200630_clmeta_CD14_all.tsv\",\n",
    "        \"CLASSCOLUMN\": \"curatedname\",\n",
    "    },\n",
    "    \"Epith\": {\n",
    "        \"FGID13FILE\": f\"gs://{PREDICT_BUCKET}/Tiered-FGID-13/loomfiles/T1C2_SCT_data.loom\",\n",
    "        \"CD14FILE\": f\"gs://{PREDICT_BUCKET}/Tiered-CD-14/loomfiles/CD_epith_paneth.loom\",\n",
    "        \"FGID13MODEL\": f\"gs://{PREDICT_BUCKET}/Tiered-FGID-13/randomforest/curated_models/FGID_T1C2_Epith_SCT_data.pkl\",\n",
    "        \"CD14MODEL\": f\"gs://{PREDICT_BUCKET}/Tiered-CD-14/randomforest/curated_models/CD_epith_paneth_SCT_data.pkl\",\n",
    "        \"FGID13META\": f\"gs://{PREDICT_BUCKET}/Tiered-FGID-13/20200630_clmeta_FG13_all.tsv\",\n",
    "        \"CD14META\": f\"gs://{PREDICT_BUCKET}/Tiered-CD-14/20200630_clmeta_CD14_all.tsv\",\n",
    "        \"CLASSCOLUMN\": \"curatedname\",\n",
    "    },\n",
    "#     \"Mstcl\": {\n",
    "#         \"FGID13FILE\": f\"gs://{PREDICT_BUCKET}/Tiered-FGID-13/loomfiles/T1C7_SCT_data.loom\",\n",
    "#         \"CD14FILE\": f\"gs://{PREDICT_BUCKET}/Tiered-CD-14/loomfiles/T1C8_SCT_data.loom\",\n",
    "#         \"FGID13MODEL\": f\"gs://{PREDICT_BUCKET}/Tiered-FGID-13/randomforest/nodoublet_models/FGID_T1C7_Mstcl_SCT_data.pkl\",\n",
    "#         \"CD14MODEL\": f\"gs://{PREDICT_BUCKET}/Tiered-CD-14/randomforest/nodoublet_models/CD_T1C8_Mstcl_SCT_data.pkl\",\n",
    "#         \"FGID13META\": f\"gs://{PREDICT_BUCKET}/Tiered-FGID-13/20200422_clmeta_FGID13_all.tsv\",\n",
    "#         \"CD14META\": f\"gs://{PREDICT_BUCKET}/Tiered-CD-14/20200511_clmeta_CD14_all.tsv\",\n",
    "#         \"CLASSCOLUMN\": \"tierNname\",\n",
    "#     },\n",
    "    \"Endth\": {\n",
    "        \"FGID13FILE\": f\"gs://{PREDICT_BUCKET}/Tiered-FGID-13/loomfiles/T1C8_SCT_data.loom\",\n",
    "        \"CD14FILE\": f\"gs://{PREDICT_BUCKET}/Tiered-CD-14/loomfiles/T1C9_SCT_data.loom\",\n",
    "        \"FGID13MODEL\": f\"gs://{PREDICT_BUCKET}/Tiered-FGID-13/randomforest/nodoublet_models/FGID_T1C8_Endth_SCT_data.pkl\",\n",
    "        \"CD14MODEL\": f\"gs://{PREDICT_BUCKET}/Tiered-CD-14/randomforest/nodoublet_models/CD_T1C9_Endth_SCT_data.pkl\",\n",
    "        \"FGID13META\": f\"gs://{PREDICT_BUCKET}/Tiered-FGID-13/20200422_clmeta_FGID13_all.tsv\",\n",
    "        \"CD14META\": f\"gs://{PREDICT_BUCKET}/Tiered-CD-14/20200511_clmeta_CD14_all.tsv\",\n",
    "        \"CLASSCOLUMN\": \"tierNname\",\n",
    "    },\n",
    "    \n",
    "}"
   ]
  },
  {
   "cell_type": "code",
   "execution_count": 15,
   "metadata": {},
   "outputs": [],
   "source": [
    "!chmod +x make_rf_comp_plots.py"
   ]
  },
  {
   "cell_type": "code",
   "execution_count": 21,
   "metadata": {},
   "outputs": [
    {
     "name": "stdout",
     "output_type": "stream",
     "text": [
      "Job: plt-rf-epi--ben--200703-131537-69\n",
      "Launched job-id: plt-rf-epi--ben--200703-131537-69\n",
      "To check the status, run:\n",
      "  dstat --provider google-v2 --project shalek-lab --jobs 'plt-rf-epi--ben--200703-131537-69' --users 'ben' --status '*'\n",
      "To cancel the job, run:\n",
      "  ddel --provider google-v2 --project shalek-lab --jobs 'plt-rf-epi--ben--200703-131537-69' --users 'ben'\n",
      "plt-rf-epi--ben--200703-131537-69\n"
     ]
    }
   ],
   "source": [
    "for k, v in task_description.items():\n",
    "    !dsub \\\n",
    "        --name plt-rf-{k} \\\n",
    "        --provider google-v2 \\\n",
    "        --project shalek-lab \\\n",
    "        --logging gs://{PREDICT_BUCKET}/rf_comp_plts/logging \\\n",
    "        --regions us-central1 \\\n",
    "        --boot-disk-size 15  --timeout 4d \\\n",
    "        --min-ram 128 --min-cores 16 --disk-size 500 \\\n",
    "        --input FGID13FILE={v['FGID13FILE']} \\\n",
    "        --input CD14FILE={v['CD14FILE']} \\\n",
    "        --input FGID13MODEL={v['FGID13MODEL']} \\\n",
    "        --input CD14MODEL={v['CD14MODEL']} \\\n",
    "        --input FGID13META={v['FGID13META']} \\\n",
    "        --input CD14META={v['CD14META']} \\\n",
    "        --env CLASSCOLUMN={v['CLASSCOLUMN']} \\\n",
    "        --output-recursive OUTFOLDER=gs://{PREDICT_BUCKET}/rf_comp_plts/{datetime.now().strftime('%Y%m%d-%H%M%S')}_{k} \\\n",
    "        --image shaleklab/terra-seurat-env:release-v2.0 \\\n",
    "        --script make_rf_comp_plots.py"
   ]
  },
  {
   "cell_type": "code",
   "execution_count": 25,
   "metadata": {},
   "outputs": [
    {
     "name": "stdout",
     "output_type": "stream",
     "text": [
      "\n",
      "\n"
     ]
    }
   ],
   "source": [
    "!dstat --provider google-v2 --project shalek-lab --users 'ben' --status 'RUNNING'"
   ]
  },
  {
   "cell_type": "code",
   "execution_count": 26,
   "metadata": {},
   "outputs": [
    {
     "name": "stdout",
     "output_type": "stream",
     "text": [
      "Job Name        Status    Last Update\n",
      "--------------  --------  -------------------\n",
      "plt-rf-epith    Success   2020-07-03 13:47:03\n",
      "cd-epithpaneth  Success   2020-07-03 13:11:08\n",
      "rf-epith        Success   2020-07-03 12:47:00\n",
      "\n"
     ]
    }
   ],
   "source": [
    "!dstat --provider google-v2 --project shalek-lab --users 'ben' --status '*' --age 12h # --names \"rf-bclls\" --full"
   ]
  },
  {
   "cell_type": "code",
   "execution_count": null,
   "metadata": {},
   "outputs": [],
   "source": []
  }
 ],
 "metadata": {
  "kernelspec": {
   "display_name": "Python 3",
   "language": "python",
   "name": "python3"
  },
  "language_info": {
   "codemirror_mode": {
    "name": "ipython",
    "version": 3
   },
   "file_extension": ".py",
   "mimetype": "text/x-python",
   "name": "python",
   "nbconvert_exporter": "python",
   "pygments_lexer": "ipython3",
   "version": "3.9.4"
  }
 },
 "nbformat": 4,
 "nbformat_minor": 4
}
