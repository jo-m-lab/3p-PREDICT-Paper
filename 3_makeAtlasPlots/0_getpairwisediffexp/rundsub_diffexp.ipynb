{
 "cells": [
  {
   "cell_type": "code",
   "execution_count": null,
   "metadata": {},
   "outputs": [],
   "source": [
    "from datetime import datetime\n",
    "from dotenv import load_dotenv\n",
    "from os import getenv\n",
    "load_dotenv()\n",
    "PREDICT_BUCKET = getenv(\"PREDICT_BUCKET\") # PREDICT STUDY bucket"
   ]
  },
  {
   "cell_type": "code",
   "execution_count": null,
   "metadata": {},
   "outputs": [],
   "source": [
    "!chmod +x pwDiffExp.R"
   ]
  },
  {
   "cell_type": "code",
   "execution_count": null,
   "metadata": {},
   "outputs": [],
   "source": [
    "task_description = {\n",
    "    \"FG13\": {\n",
    "        \"SROBJFILE\": f\"gs://{PREDICT_BUCKET}/Tiered-FGID-13/FG13/T0C0.rds\",\n",
    "        \"METAFILE\": f\"gs://{PREDICT_BUCKET}/Tiered-FGID-13/20200630_clmeta_FG13_all.tsv\",\n",
    "        \"COLUMN\": f\"curatedname\"\n",
    "    },\n",
    "    \"CD14\": {\n",
    "        \"SROBJFILE\": f\"gs://{PREDICT_BUCKET}/Tiered-CD-14/T0C0.rds\",\n",
    "        \"METAFILE\": f\"gs://{PREDICT_BUCKET}/Tiered-CD-14/20200630_clmeta_CD14_all.tsv\",\n",
    "        \"COLUMN\": f\"curatedname\"\n",
    "    }\n",
    "}"
   ]
  },
  {
   "cell_type": "code",
   "execution_count": null,
   "metadata": {},
   "outputs": [],
   "source": [
    "task_description"
   ]
  },
  {
   "cell_type": "code",
   "execution_count": null,
   "metadata": {},
   "outputs": [],
   "source": [
    "for k, v in task_description.items():\n",
    "    !dsub \\\n",
    "        --name pw-de-{k} \\\n",
    "        --provider google-v2 \\\n",
    "        --project shalek-lab \\\n",
    "        --logging gs://{PREDICT_BUCKET}/pwdiffexp/logging \\\n",
    "        --regions us-central1 \\\n",
    "        --boot-disk-size 15  --timeout 2w \\\n",
    "        --min-ram 256 --min-cores 32 --disk-size 500 \\\n",
    "        --input SROBJFILE={v['SROBJFILE']} \\\n",
    "        --input METAFILE={v['METAFILE']} \\\n",
    "        --env COLUMN={v['COLUMN']} \\\n",
    "        --output OUTRDSFILE=gs://{PREDICT_BUCKET}/pwdiffexp/{datetime.now().strftime('%Y%m%d-%H%M%S')}_{k}_pwde_{v['COLUMN']}.rds \\\n",
    "        --image shaleklab/terra-seurat-env:release-v2.0 \\\n",
    "        --script pwDiffExp.R"
   ]
  },
  {
   "cell_type": "code",
   "execution_count": null,
   "metadata": {},
   "outputs": [],
   "source": []
  }
 ],
 "metadata": {
  "interpreter": {
   "hash": "f057aeeea25a380815c002a24c3fd55c5668dbd8eb52f403b78aa73ee850aecb"
  },
  "kernelspec": {
   "display_name": "Python 3",
   "language": "python",
   "name": "python3"
  },
  "language_info": {
   "codemirror_mode": {
    "name": "ipython",
    "version": 3
   },
   "file_extension": ".py",
   "mimetype": "text/x-python",
   "name": "python",
   "nbconvert_exporter": "python",
   "pygments_lexer": "ipython3",
   "version": "3.9.4"
  }
 },
 "nbformat": 4,
 "nbformat_minor": 4
}
